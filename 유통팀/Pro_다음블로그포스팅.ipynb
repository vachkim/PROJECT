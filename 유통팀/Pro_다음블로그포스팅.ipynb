{
 "cells": [
  {
   "cell_type": "markdown",
   "metadata": {},
   "source": [
    "### 필요 라이브러리 다운"
   ]
  },
  {
   "cell_type": "code",
   "execution_count": 1,
   "metadata": {},
   "outputs": [
    {
     "name": "stdout",
     "output_type": "stream",
     "text": [
      "Requirement already satisfied: selenium in c:\\anaconda3\\envs\\py37\\lib\\site-packages (3.141.0)\n",
      "Requirement already satisfied: urllib3 in c:\\anaconda3\\envs\\py37\\lib\\site-packages (from selenium) (1.25.9)\n"
     ]
    }
   ],
   "source": [
    "!pip install selenium\n",
    "# selenium 없을 시 설치"
   ]
  },
  {
   "cell_type": "code",
   "execution_count": 47,
   "metadata": {},
   "outputs": [],
   "source": [
    "import pandas as pd\n",
    "import numpy as np\n",
    "import seaborn as sns\n",
    "import matplotlib.pyplot as plt\n",
    "from datetime import date\n",
    "from dateutil.relativedelta import relativedelta\n",
    "import time\n",
    "from datetime import datetime, timedelta"
   ]
  },
  {
   "cell_type": "code",
   "execution_count": 48,
   "metadata": {},
   "outputs": [],
   "source": [
    "import requests\n",
    "from bs4 import BeautifulSoup as bs"
   ]
  },
  {
   "cell_type": "markdown",
   "metadata": {},
   "source": [
    "### 크롤링 연습"
   ]
  },
  {
   "cell_type": "code",
   "execution_count": 49,
   "metadata": {},
   "outputs": [],
   "source": [
    "url = 'http://search.daum.net/search?w=blog&f=section&SA=daumsec&lpp=10&nil_profile=vsearch&nil_src=blog&q=%ED%8A%B8%EB%9F%AC%ED%94%8C&DA=STC&period=w&sd=20200918153010&ed=20200925153010'"
   ]
  },
  {
   "cell_type": "code",
   "execution_count": 50,
   "metadata": {},
   "outputs": [],
   "source": [
    "page = requests.get(url)\n",
    "soup = bs(page.text,'html.parser')\n",
    "all = soup.find('span',{'class':'txt_info'})\n",
    "how_many=all.text"
   ]
  },
  {
   "cell_type": "code",
   "execution_count": 51,
   "metadata": {},
   "outputs": [
    {
     "data": {
      "text/plain": [
       "' 1건'"
      ]
     },
     "execution_count": 51,
     "metadata": {},
     "output_type": "execute_result"
    }
   ],
   "source": [
    "how_many.split('/')[1]"
   ]
  },
  {
   "cell_type": "code",
   "execution_count": 52,
   "metadata": {},
   "outputs": [],
   "source": [
    "url = 'http://search.daum.net/search?nil_suggest=btn&w=blog&lpp=10&DA=STC&q={}&sd={}000000&ed={}235959&period=u'"
   ]
  },
  {
   "cell_type": "code",
   "execution_count": 53,
   "metadata": {},
   "outputs": [
    {
     "data": {
      "text/plain": [
       "'http://search.daum.net/search?nil_suggest=btn&w=blog&lpp=10&DA=STC&q=트러플&sd=20200918000000&ed=20200925235959&period=u'"
      ]
     },
     "execution_count": 53,
     "metadata": {},
     "output_type": "execute_result"
    }
   ],
   "source": [
    "URL = url.format('트러플',20200918,20200925)\n",
    "URL"
   ]
  },
  {
   "cell_type": "code",
   "execution_count": 54,
   "metadata": {},
   "outputs": [],
   "source": [
    "page = requests.get(URL)\n",
    "soup = bs(page.text,'html.parser')\n",
    "all = soup.find('span',{'class':'txt_info'})\n",
    "how_many=all.text"
   ]
  },
  {
   "cell_type": "code",
   "execution_count": 55,
   "metadata": {},
   "outputs": [
    {
     "data": {
      "text/plain": [
       "'1-10 / 약 2,320건'"
      ]
     },
     "execution_count": 55,
     "metadata": {},
     "output_type": "execute_result"
    }
   ],
   "source": [
    "how_many"
   ]
  },
  {
   "cell_type": "code",
   "execution_count": 56,
   "metadata": {},
   "outputs": [
    {
     "data": {
      "text/plain": [
       "2320"
      ]
     },
     "execution_count": 56,
     "metadata": {},
     "output_type": "execute_result"
    }
   ],
   "source": [
    "blank = how_many.split('/')[1].replace(\" \",\"\")\n",
    "maybe = blank.replace(\"약\",\"\")\n",
    "number = maybe.replace(\"건\",\"\")\n",
    "nocom = number.replace(\",\",\"\")\n",
    "num = int(nocom)\n",
    "num"
   ]
  },
  {
   "cell_type": "markdown",
   "metadata": {},
   "source": [
    "### 함수화해서 진행"
   ]
  },
  {
   "cell_type": "code",
   "execution_count": 105,
   "metadata": {},
   "outputs": [],
   "source": [
    "def get_frequency(x,y):\n",
    "    url = 'http://search.daum.net/search?nil_suggest=btn&w=blog&lpp=10&DA=STC&q={}&sd={}000000&ed={}235959&period=u'\n",
    "    make_start = pd.to_datetime(str(y), format='%Y%m%d')\n",
    "    make_end = make_start +timedelta(days=1)\n",
    "    z = make_end.strftime(\"%Y%m%d\")\n",
    "    \n",
    "    URL = url.format(x,y,z)\n",
    "    page = requests.get(URL)\n",
    "    time.sleep(1)\n",
    "    \n",
    "    soup = bs(page.text,'html.parser')\n",
    "    time.sleep(1)\n",
    "    \n",
    "    whole = soup.find('div',{'class':'sub_expander'})\n",
    "    find_number = whole.find('span',{'class':'txt_info'})\n",
    "    found = find_number.text\n",
    "    \n",
    "    if found is None:\n",
    "        return(0)\n",
    "    else:\n",
    "        split = found.split('/')[1]\n",
    "        maybe = split.replace(\"약\",\"\")\n",
    "        number = maybe.replace(\"건\",\"\")\n",
    "        nocom = number.replace(\",\",\"\")\n",
    "        num = int(nocom)\n",
    "        return(num)"
   ]
  },
  {
   "cell_type": "code",
   "execution_count": 106,
   "metadata": {},
   "outputs": [],
   "source": [
    "def get_date_by_day(year,month,day,x):\n",
    "    start_date = date(year,month,day)\n",
    "    day_list = []\n",
    "    for how_many in range(1,x+1):\n",
    "        formattedDate = start_date.strftime(\"%Y%m%d\")\n",
    "        day_list.append(formattedDate)\n",
    "        start_date += timedelta(days=1)\n",
    "    return(day_list)"
   ]
  },
  {
   "cell_type": "code",
   "execution_count": 107,
   "metadata": {},
   "outputs": [],
   "source": [
    "start_list = get_date_by_day(2018,7,8,365)"
   ]
  },
  {
   "cell_type": "code",
   "execution_count": 108,
   "metadata": {},
   "outputs": [],
   "source": [
    "frequency=[]\n",
    "\n",
    "for day in start_list:\n",
    "    start = int(day)\n",
    "    frequency.append(get_frequency('트러플',start))"
   ]
  },
  {
   "cell_type": "code",
   "execution_count": 110,
   "metadata": {},
   "outputs": [
    {
     "data": {
      "text/plain": [
       "365"
      ]
     },
     "execution_count": 110,
     "metadata": {},
     "output_type": "execute_result"
    }
   ],
   "source": [
    "len(frequency)"
   ]
  },
  {
   "cell_type": "code",
   "execution_count": 111,
   "metadata": {},
   "outputs": [
    {
     "data": {
      "text/plain": [
       "[<matplotlib.lines.Line2D at 0x29fc6ce5e48>]"
      ]
     },
     "execution_count": 111,
     "metadata": {},
     "output_type": "execute_result"
    },
    {
     "data": {
      "image/png": "[encoded data removed]",
      "text/plain": [
       "<Figure size 432x288 with 1 Axes>"
      ]
     },
     "metadata": {
      "needs_background": "light"
     },
     "output_type": "display_data"
    }
   ],
   "source": [
    "fig,ax = plt.subplots()\n",
    "ax.plot(start_list,frequency)"
   ]
  },
  {
   "cell_type": "code",
   "execution_count": null,
   "metadata": {},
   "outputs": [],
   "source": []
  }
 ],
 "metadata": {
  "kernelspec": {
   "display_name": "Python 3",
   "language": "python",
   "name": "python3"
  },
  "language_info": {
   "codemirror_mode": {
    "name": "ipython",
    "version": 3
   },
   "file_extension": ".py",
   "mimetype": "text/x-python",
   "name": "python",
   "nbconvert_exporter": "python",
   "pygments_lexer": "ipython3",
   "version": "3.7.7"
  }
 },
 "nbformat": 4,
 "nbformat_minor": 4
}
