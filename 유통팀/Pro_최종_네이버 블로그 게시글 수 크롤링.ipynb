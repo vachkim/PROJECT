{
  "nbformat": 4,
  "nbformat_minor": 0,
  "metadata": {
    "kernelspec": {
      "display_name": "Python 3",
      "language": "python",
      "name": "python3"
    },
    "language_info": {
      "codemirror_mode": {
        "name": "ipython",
        "version": 3
      },
      "file_extension": ".py",
      "mimetype": "text/x-python",
      "name": "python",
      "nbconvert_exporter": "python",
      "pygments_lexer": "ipython3",
      "version": "3.7.7"
    },
    "colab": {
      "name": "0.최종_네이브게시글수.ipynb",
      "provenance": [],
      "collapsed_sections": [],
      "include_colab_link": true
    }
  },
  "cells": [
    {
      "cell_type": "markdown",
      "metadata": {
        "id": "view-in-github",
        "colab_type": "text"
      },
      "source": [
        "<a href=\"https://colab.research.google.com/github/vachkim/PROJECT/blob/master/%EC%9C%A0%ED%86%B5%ED%8C%80/Pro_%EC%B5%9C%EC%A2%85_%EB%84%A4%EC%9D%B4%EB%B2%84%20%EB%B8%94%EB%A1%9C%EA%B7%B8%20%EA%B2%8C%EC%8B%9C%EA%B8%80%20%EC%88%98%20%ED%81%AC%EB%A1%A4%EB%A7%81.ipynb\" target=\"_parent\"><img src=\"https://colab.research.google.com/assets/colab-badge.svg\" alt=\"Open In Colab\"/></a>"
      ]
    },
    {
      "cell_type": "code",
      "metadata": {
        "id": "-LKztUre_0-C"
      },
      "source": [
        "import pandas as pd\n",
        "import numpy as np\n",
        "import seaborn as sns\n",
        "import matplotlib.pyplot as plt\n",
        "from datetime import date\n",
        "from dateutil.relativedelta import relativedelta\n",
        "import time\n",
        "from datetime import datetime, timedelta"
      ],
      "execution_count": null,
      "outputs": []
    },
    {
      "cell_type": "code",
      "metadata": {
        "id": "5aUtA1dk_0-H"
      },
      "source": [
        "import requests\n",
        "from bs4 import BeautifulSoup as bs"
      ],
      "execution_count": null,
      "outputs": []
    },
    {
      "cell_type": "code",
      "metadata": {
        "id": "pfihGD75_0-K"
      },
      "source": [
        "def get_naver_frequency(x,y):\n",
        "    url = 'https://search.naver.com/search.naver?where=post&query={}&st=sim&sm=tab_opt&date_from={}&date_to={}&date_option=8&srchby=all&dup_remove=1&post_blogurl=&post_blogurl_without=&nso=so%3Ar%2Ca%3Aall%2Cp%3Afrom{}to{}'\n",
        "    make_start = pd.to_datetime(str(y))\n",
        "    make_end = make_start +timedelta(days=1)\n",
        "    z = make_end.strftime('%Y%m%d')\n",
        "\n",
        "    URL = url.format(x,y,y,y,y)\n",
        "    page = requests.get(URL)\n",
        "    time.sleep(1)\n",
        "\n",
        "    soup = bs(page.text,'html.parser')\n",
        "    content= soup.find('div',{'class':'blog section _blogBase _prs_blg'})\n",
        "    whole = content.find('div',{'class':'section_head'})\n",
        "    result = whole.find('span',{'class':'title_num'})\n",
        "\n",
        "    if result is None:\n",
        "        return(0)  \n",
        "    else:\n",
        "        found = result.text\n",
        "        split = found.split('/')[1]\n",
        "        maybe = split.replace(\"약\",\"\")\n",
        "        number = maybe.replace(\"건\",\"\")\n",
        "        nocom = number.replace(\",\",\"\")\n",
        "        num = int(nocom)\n",
        "        return(num)"
      ],
      "execution_count": null,
      "outputs": []
    },
    {
      "cell_type": "code",
      "metadata": {
        "id": "ieAktxo6_0-M"
      },
      "source": [
        "def get_date_in_line(year,month,day,x):\n",
        "    start_date = date(year,month,day)\n",
        "    day_list = []\n",
        "    for how_many in range(1,x+1):\n",
        "        formattedDate = start_date.strftime(\"%Y%m%d\")\n",
        "        day_list.append(formattedDate)\n",
        "        start_date += timedelta(days=1)\n",
        "    return(day_list)"
      ],
      "execution_count": null,
      "outputs": []
    },
    {
      "cell_type": "code",
      "metadata": {
        "id": "uhmYoYKX_0-P"
      },
      "source": [
        "#크롤링 시작 날짜를 년,월,일 형태로 입력합니다\n",
        "#네번째 숫자는 크롤링 기간을 의미합니다 Ex. 600 = 시작일로부터 600일동안의 빈도수 크롤링\n",
        "start_list = get_date_in_line(2020,1,1,600)"
      ],
      "execution_count": null,
      "outputs": []
    },
    {
      "cell_type": "code",
      "metadata": {
        "id": "6tDyboC0_0-S"
      },
      "source": [
        "naver_frequency = []\n",
        "\n",
        "for day in start_list:\n",
        "    start = int(day)\n",
        "    naver_frequency.append(get_naver_frequency('키워드',start))"
      ],
      "execution_count": null,
      "outputs": []
    },
    {
      "cell_type": "code",
      "metadata": {
        "id": "U9sfOw2S_0-V"
      },
      "source": [
        "naver = pd.DataFrame({'date':start_list,'frequency':naver_frequency})"
      ],
      "execution_count": null,
      "outputs": []
    },
    {
      "cell_type": "code",
      "metadata": {
        "id": "pxEo_IQKAWQ6"
      },
      "source": [
        "#일자별로 게시글 빈도수를 나타내는 csv\n",
        "naver.to_csv(r'파일위치\\파일명.csv', index = False)"
      ],
      "execution_count": null,
      "outputs": []
    },
    {
      "cell_type": "code",
      "metadata": {
        "id": "5wQTSjAr_0-X"
      },
      "source": [
        "#년월일로 표시된 date칼럼에서 연도와 월 정보만 추출하는 부분입니다\n",
        "date_list = list(naver['date'])\n",
        "\n",
        "new_list = []\n",
        "for item in date_list:\n",
        "    itemstr = str(item)\n",
        "    new_list.append(itemstr[0:6])\n",
        "\n",
        "naver['date'] = new_list"
      ],
      "execution_count": null,
      "outputs": []
    },
    {
      "cell_type": "code",
      "metadata": {
        "id": "0bOuywO8_0-a"
      },
      "source": [
        "#월을 기준으로 데이터를 추합하는 부분입니다\n",
        "new_naver = naver.groupby(['date']).sum()\n",
        "rearr_X = new_naver.reset_index()"
      ],
      "execution_count": null,
      "outputs": []
    },
    {
      "cell_type": "code",
      "metadata": {
        "id": "IJBu42FY_0-e"
      },
      "source": [
        "#월별로 게시글 빈도수를 나타내는 csv\n",
        "rearr_X.to_csv(r'파일위치\\파일명.csv', index = False)"
      ],
      "execution_count": null,
      "outputs": []
    }
  ]
}