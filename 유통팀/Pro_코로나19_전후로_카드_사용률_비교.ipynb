{
  "nbformat": 4,
  "nbformat_minor": 0,
  "metadata": {
    "colab": {
      "name": "Pro_코로나19 전후로 카드 사용률 비교",
      "provenance": [],
      "collapsed_sections": [],
      "authorship_tag": "ABX9TyOD3mWD7u4i3C8BGPIPH+2a",
      "include_colab_link": true
    },
    "kernelspec": {
      "name": "python3",
      "display_name": "Python 3"
    }
  },
  "cells": [
    {
      "cell_type": "markdown",
      "metadata": {
        "id": "view-in-github",
        "colab_type": "text"
      },
      "source": [
        "<a href=\"https://colab.research.google.com/github/vachkim/PROJECT/blob/master/%EC%9C%A0%ED%86%B5%ED%8C%80/Pro_%EC%BD%94%EB%A1%9C%EB%82%9819_%EC%A0%84%ED%9B%84%EB%A1%9C_%EC%B9%B4%EB%93%9C_%EC%82%AC%EC%9A%A9%EB%A5%A0_%EB%B9%84%EA%B5%90.ipynb\" target=\"_parent\"><img src=\"https://colab.research.google.com/assets/colab-badge.svg\" alt=\"Open In Colab\"/></a>"
      ]
    },
    {
      "cell_type": "markdown",
      "metadata": {
        "id": "t4rwJOP-hEVO",
        "colab_type": "text"
      },
      "source": [
        "### 1) Colab셋팅 및 데이터 불러오기"
      ]
    },
    {
      "cell_type": "code",
      "metadata": {
        "id": "8AYz5YgQkXQi",
        "colab_type": "code",
        "colab": {
          "base_uri": "https://localhost:8080/",
          "height": 215
        },
        "outputId": "a49990ef-34ea-4be9-a9bc-0d1fde07f350"
      },
      "source": [
        "%config InlineBackend.figure_format = 'retina'\n",
        "!apt -qq -y install fonts-nanum"
      ],
      "execution_count": null,
      "outputs": [
        {
          "output_type": "stream",
          "text": [
            "The following NEW packages will be installed:\n",
            "  fonts-nanum\n",
            "0 upgraded, 1 newly installed, 0 to remove and 11 not upgraded.\n",
            "Need to get 9,604 kB of archives.\n",
            "After this operation, 29.5 MB of additional disk space will be used.\n",
            "Selecting previously unselected package fonts-nanum.\n",
            "(Reading database ... 144676 files and directories currently installed.)\n",
            "Preparing to unpack .../fonts-nanum_20170925-1_all.deb ...\n",
            "Unpacking fonts-nanum (20170925-1) ...\n",
            "Setting up fonts-nanum (20170925-1) ...\n",
            "Processing triggers for fontconfig (2.12.6-0ubuntu2) ...\n"
          ],
          "name": "stdout"
        }
      ]
    },
    {
      "cell_type": "code",
      "metadata": {
        "id": "uYIOlHHdkYvP",
        "colab_type": "code",
        "colab": {
          "base_uri": "https://localhost:8080/",
          "height": 53
        },
        "outputId": "9640f609-9ddd-47fe-ead4-be7ad50a800d"
      },
      "source": [
        "from pandas.plotting import register_matplotlib_converters\n",
        "import seaborn as sns\n",
        "import matplotlib.pyplot as plt\n",
        "import matplotlib as mpl\n",
        "import matplotlib.pyplot as plt\n",
        "import matplotlib.font_manager as fm"
      ],
      "execution_count": null,
      "outputs": [
        {
          "output_type": "stream",
          "text": [
            "/usr/local/lib/python3.6/dist-packages/statsmodels/tools/_testing.py:19: FutureWarning: pandas.util.testing is deprecated. Use the functions in the public API at pandas.testing instead.\n",
            "  import pandas.util.testing as tm\n"
          ],
          "name": "stderr"
        }
      ]
    },
    {
      "cell_type": "code",
      "metadata": {
        "id": "wd1wmwuMka33",
        "colab_type": "code",
        "colab": {}
      },
      "source": [
        "fontpath = '/usr/share/fonts/truetype/nanum/NanumBarunGothic.ttf'\n",
        "font = fm.FontProperties(fname=fontpath, size=9)\n",
        "plt.rc('font', family='NanumBarunGothic') \n",
        "plt.rcParams[\"figure.figsize\"] = (20, 10)\n",
        "register_matplotlib_converters()\n",
        "mpl.font_manager._rebuild()\n",
        "mpl.pyplot.rc('font', family='NanumGothic')\n",
        "fm._rebuild()"
      ],
      "execution_count": null,
      "outputs": []
    },
    {
      "cell_type": "code",
      "metadata": {
        "id": "LNtMtRQshhO9",
        "colab_type": "code",
        "colab": {}
      },
      "source": [
        "import warnings\n",
        "warnings.filterwarnings('ignore')"
      ],
      "execution_count": null,
      "outputs": []
    },
    {
      "cell_type": "code",
      "metadata": {
        "id": "yXVlRIIxcAsI",
        "colab_type": "code",
        "colab": {
          "base_uri": "https://localhost:8080/",
          "height": 35
        },
        "outputId": "6a4b0926-dd7f-47ab-e94b-e743185c963b"
      },
      "source": [
        "from google.colab import drive\n",
        "ROOT = '/content/drive'\n",
        "drive.mount(ROOT)}"
      ],
      "execution_count": null,
      "outputs": [
        {
          "output_type": "stream",
          "text": [
            "Mounted at /content/drive\n"
          ],
          "name": "stdout"
        }
      ]
    },
    {
      "cell_type": "code",
      "metadata": {
        "id": "8LfyX_uWcOBj",
        "colab_type": "code",
        "colab": {
          "base_uri": "https://localhost:8080/",
          "height": 35
        },
        "outputId": "6f249abc-9025-47d4-c3f1-1dea66a0a133"
      },
      "source": [
        "%cd drive/'My Drive'/'Colab Notebooks'/'PROJECT_DATA'"
      ],
      "execution_count": null,
      "outputs": [
        {
          "output_type": "stream",
          "text": [
            "/content/drive/My Drive/Colab Notebooks/PROJECT_DATA\n"
          ],
          "name": "stdout"
        }
      ]
    },
    {
      "cell_type": "code",
      "metadata": {
        "id": "y8IiGOLocpGa",
        "colab_type": "code",
        "colab": {
          "base_uri": "https://localhost:8080/",
          "height": 53
        },
        "outputId": "515c504b-6f44-4de0-c423-865e12b4f9a5"
      },
      "source": [
        "%ls"
      ],
      "execution_count": null,
      "outputs": [
        {
          "output_type": "stream",
          "text": [
            "신한카드데이터.csv   국민카드데이터.xlsx\n",
            "신한카드데이터.xlsx  신용카드증가데이터.xlsx\n"
          ],
          "name": "stdout"
        }
      ]
    },
    {
      "cell_type": "code",
      "metadata": {
        "id": "cQ1M7EeDexty",
        "colab_type": "code",
        "colab": {}
      },
      "source": [
        "import pandas as pd\n",
        "from pandas import DataFrame\n",
        "import numpy as np\n",
        "import seaborn as sns\n",
        "import matplotlib.pyplot as plt"
      ],
      "execution_count": null,
      "outputs": []
    },
    {
      "cell_type": "code",
      "metadata": {
        "id": "v-XIwbb-daab",
        "colab_type": "code",
        "colab": {}
      },
      "source": [
        "Raw = pd.DataFrame(pd.read_excel('신한카드데이터.xlsx'))"
      ],
      "execution_count": null,
      "outputs": []
    },
    {
      "cell_type": "markdown",
      "metadata": {
        "id": "OU4ajOSghMTd",
        "colab_type": "text"
      },
      "source": [
        "### 2) 년도별 카드사용빈도 분석"
      ]
    },
    {
      "cell_type": "code",
      "metadata": {
        "id": "_SJpFIX7fCqV",
        "colab_type": "code",
        "colab": {
          "base_uri": "https://localhost:8080/",
          "height": 197
        },
        "outputId": "58fcaac8-ccf7-4b28-be27-31dd9ce7518b"
      },
      "source": [
        "Raw.info()"
      ],
      "execution_count": null,
      "outputs": [
        {
          "output_type": "stream",
          "text": [
            "<class 'pandas.core.frame.DataFrame'>\n",
            "RangeIndex: 5538 entries, 0 to 5537\n",
            "Data columns (total 3 columns):\n",
            " #   Column      Non-Null Count  Dtype \n",
            "---  ------      --------------  ----- \n",
            " 0   이용일자        5538 non-null   int64 \n",
            " 1   업종대분류       5538 non-null   object\n",
            " 2   카드결제건수(천건)  5538 non-null   int64 \n",
            "dtypes: int64(2), object(1)\n",
            "memory usage: 129.9+ KB\n"
          ],
          "name": "stdout"
        }
      ]
    },
    {
      "cell_type": "code",
      "metadata": {
        "id": "PlG22Bfdfvww",
        "colab_type": "code",
        "colab": {}
      },
      "source": [
        "Date = list(Raw['이용일자'])\n",
        "Year = []\n",
        "for item in Date:\n",
        "  if item < 20200101:\n",
        "    Year.append(2019)\n",
        "  else:\n",
        "    Year.append(2020)"
      ],
      "execution_count": null,
      "outputs": []
    },
    {
      "cell_type": "code",
      "metadata": {
        "id": "C3UNMz77hdVV",
        "colab_type": "code",
        "colab": {
          "base_uri": "https://localhost:8080/",
          "height": 452
        },
        "outputId": "d22b9a53-e10f-4612-9756-cc0591042813"
      },
      "source": [
        "Raw['Year'] = Year\n",
        "Raw.head(13)"
      ],
      "execution_count": null,
      "outputs": [
        {
          "output_type": "execute_result",
          "data": {
            "text/html": [
              "<div>\n",
              "<style scoped>\n",
              "    .dataframe tbody tr th:only-of-type {\n",
              "        vertical-align: middle;\n",
              "    }\n",
              "\n",
              "    .dataframe tbody tr th {\n",
              "        vertical-align: top;\n",
              "    }\n",
              "\n",
              "    .dataframe thead th {\n",
              "        text-align: right;\n",
              "    }\n",
              "</style>\n",
              "<table border=\"1\" class=\"dataframe\">\n",
              "  <thead>\n",
              "    <tr style=\"text-align: right;\">\n",
              "      <th></th>\n",
              "      <th>이용일자</th>\n",
              "      <th>업종대분류</th>\n",
              "      <th>카드결제건수(천건)</th>\n",
              "      <th>Year</th>\n",
              "    </tr>\n",
              "  </thead>\n",
              "  <tbody>\n",
              "    <tr>\n",
              "      <th>0</th>\n",
              "      <td>20190101</td>\n",
              "      <td>가전/가구</td>\n",
              "      <td>149</td>\n",
              "      <td>2019</td>\n",
              "    </tr>\n",
              "    <tr>\n",
              "      <th>1</th>\n",
              "      <td>20190101</td>\n",
              "      <td>가정생활/서비스</td>\n",
              "      <td>189</td>\n",
              "      <td>2019</td>\n",
              "    </tr>\n",
              "    <tr>\n",
              "      <th>2</th>\n",
              "      <td>20190101</td>\n",
              "      <td>교육/학원</td>\n",
              "      <td>142</td>\n",
              "      <td>2019</td>\n",
              "    </tr>\n",
              "    <tr>\n",
              "      <th>3</th>\n",
              "      <td>20190101</td>\n",
              "      <td>미용</td>\n",
              "      <td>464</td>\n",
              "      <td>2019</td>\n",
              "    </tr>\n",
              "    <tr>\n",
              "      <th>4</th>\n",
              "      <td>20190101</td>\n",
              "      <td>스포츠/문화/레저</td>\n",
              "      <td>1752</td>\n",
              "      <td>2019</td>\n",
              "    </tr>\n",
              "    <tr>\n",
              "      <th>5</th>\n",
              "      <td>20190101</td>\n",
              "      <td>여행/교통</td>\n",
              "      <td>260</td>\n",
              "      <td>2019</td>\n",
              "    </tr>\n",
              "    <tr>\n",
              "      <th>6</th>\n",
              "      <td>20190101</td>\n",
              "      <td>요식/유흥</td>\n",
              "      <td>9264</td>\n",
              "      <td>2019</td>\n",
              "    </tr>\n",
              "    <tr>\n",
              "      <th>7</th>\n",
              "      <td>20190101</td>\n",
              "      <td>유통</td>\n",
              "      <td>11307</td>\n",
              "      <td>2019</td>\n",
              "    </tr>\n",
              "    <tr>\n",
              "      <th>8</th>\n",
              "      <td>20190101</td>\n",
              "      <td>음/식료품</td>\n",
              "      <td>1192</td>\n",
              "      <td>2019</td>\n",
              "    </tr>\n",
              "    <tr>\n",
              "      <th>9</th>\n",
              "      <td>20190101</td>\n",
              "      <td>의료</td>\n",
              "      <td>432</td>\n",
              "      <td>2019</td>\n",
              "    </tr>\n",
              "    <tr>\n",
              "      <th>10</th>\n",
              "      <td>20190101</td>\n",
              "      <td>자동차</td>\n",
              "      <td>186</td>\n",
              "      <td>2019</td>\n",
              "    </tr>\n",
              "    <tr>\n",
              "      <th>11</th>\n",
              "      <td>20190101</td>\n",
              "      <td>주유</td>\n",
              "      <td>1782</td>\n",
              "      <td>2019</td>\n",
              "    </tr>\n",
              "    <tr>\n",
              "      <th>12</th>\n",
              "      <td>20190101</td>\n",
              "      <td>패션/잡화</td>\n",
              "      <td>415</td>\n",
              "      <td>2019</td>\n",
              "    </tr>\n",
              "  </tbody>\n",
              "</table>\n",
              "</div>"
            ],
            "text/plain": [
              "        이용일자      업종대분류  카드결제건수(천건)  Year\n",
              "0   20190101      가전/가구         149  2019\n",
              "1   20190101   가정생활/서비스         189  2019\n",
              "2   20190101      교육/학원         142  2019\n",
              "3   20190101         미용         464  2019\n",
              "4   20190101  스포츠/문화/레저        1752  2019\n",
              "5   20190101      여행/교통         260  2019\n",
              "6   20190101      요식/유흥        9264  2019\n",
              "7   20190101         유통       11307  2019\n",
              "8   20190101      음/식료품        1192  2019\n",
              "9   20190101         의료         432  2019\n",
              "10  20190101        자동차         186  2019\n",
              "11  20190101         주유        1782  2019\n",
              "12  20190101      패션/잡화         415  2019"
            ]
          },
          "metadata": {
            "tags": []
          },
          "execution_count": 32
        }
      ]
    },
    {
      "cell_type": "code",
      "metadata": {
        "id": "Fu3NzRkkuxM_",
        "colab_type": "code",
        "colab": {
          "base_uri": "https://localhost:8080/",
          "height": 419
        },
        "outputId": "3b66f6ac-a007-4eb7-af25-157eaca06af6"
      },
      "source": [
        "Raw"
      ],
      "execution_count": null,
      "outputs": [
        {
          "output_type": "execute_result",
          "data": {
            "text/html": [
              "<div>\n",
              "<style scoped>\n",
              "    .dataframe tbody tr th:only-of-type {\n",
              "        vertical-align: middle;\n",
              "    }\n",
              "\n",
              "    .dataframe tbody tr th {\n",
              "        vertical-align: top;\n",
              "    }\n",
              "\n",
              "    .dataframe thead th {\n",
              "        text-align: right;\n",
              "    }\n",
              "</style>\n",
              "<table border=\"1\" class=\"dataframe\">\n",
              "  <thead>\n",
              "    <tr style=\"text-align: right;\">\n",
              "      <th></th>\n",
              "      <th>이용일자</th>\n",
              "      <th>업종대분류</th>\n",
              "      <th>카드결제건수(천건)</th>\n",
              "      <th>Year</th>\n",
              "    </tr>\n",
              "  </thead>\n",
              "  <tbody>\n",
              "    <tr>\n",
              "      <th>0</th>\n",
              "      <td>20190101</td>\n",
              "      <td>가전/가구</td>\n",
              "      <td>149</td>\n",
              "      <td>2019</td>\n",
              "    </tr>\n",
              "    <tr>\n",
              "      <th>1</th>\n",
              "      <td>20190101</td>\n",
              "      <td>가정생활/서비스</td>\n",
              "      <td>189</td>\n",
              "      <td>2019</td>\n",
              "    </tr>\n",
              "    <tr>\n",
              "      <th>2</th>\n",
              "      <td>20190101</td>\n",
              "      <td>교육/학원</td>\n",
              "      <td>142</td>\n",
              "      <td>2019</td>\n",
              "    </tr>\n",
              "    <tr>\n",
              "      <th>3</th>\n",
              "      <td>20190101</td>\n",
              "      <td>미용</td>\n",
              "      <td>464</td>\n",
              "      <td>2019</td>\n",
              "    </tr>\n",
              "    <tr>\n",
              "      <th>4</th>\n",
              "      <td>20190101</td>\n",
              "      <td>스포츠/문화/레저</td>\n",
              "      <td>1752</td>\n",
              "      <td>2019</td>\n",
              "    </tr>\n",
              "    <tr>\n",
              "      <th>...</th>\n",
              "      <td>...</td>\n",
              "      <td>...</td>\n",
              "      <td>...</td>\n",
              "      <td>...</td>\n",
              "    </tr>\n",
              "    <tr>\n",
              "      <th>5533</th>\n",
              "      <td>20200630</td>\n",
              "      <td>음/식료품</td>\n",
              "      <td>1549</td>\n",
              "      <td>2020</td>\n",
              "    </tr>\n",
              "    <tr>\n",
              "      <th>5534</th>\n",
              "      <td>20200630</td>\n",
              "      <td>의료</td>\n",
              "      <td>2887</td>\n",
              "      <td>2020</td>\n",
              "    </tr>\n",
              "    <tr>\n",
              "      <th>5535</th>\n",
              "      <td>20200630</td>\n",
              "      <td>자동차</td>\n",
              "      <td>418</td>\n",
              "      <td>2020</td>\n",
              "    </tr>\n",
              "    <tr>\n",
              "      <th>5536</th>\n",
              "      <td>20200630</td>\n",
              "      <td>주유</td>\n",
              "      <td>2008</td>\n",
              "      <td>2020</td>\n",
              "    </tr>\n",
              "    <tr>\n",
              "      <th>5537</th>\n",
              "      <td>20200630</td>\n",
              "      <td>패션/잡화</td>\n",
              "      <td>360</td>\n",
              "      <td>2020</td>\n",
              "    </tr>\n",
              "  </tbody>\n",
              "</table>\n",
              "<p>5538 rows × 4 columns</p>\n",
              "</div>"
            ],
            "text/plain": [
              "          이용일자      업종대분류  카드결제건수(천건)  Year\n",
              "0     20190101      가전/가구         149  2019\n",
              "1     20190101   가정생활/서비스         189  2019\n",
              "2     20190101      교육/학원         142  2019\n",
              "3     20190101         미용         464  2019\n",
              "4     20190101  스포츠/문화/레저        1752  2019\n",
              "...        ...        ...         ...   ...\n",
              "5533  20200630      음/식료품        1549  2020\n",
              "5534  20200630         의료        2887  2020\n",
              "5535  20200630        자동차         418  2020\n",
              "5536  20200630         주유        2008  2020\n",
              "5537  20200630      패션/잡화         360  2020\n",
              "\n",
              "[5538 rows x 4 columns]"
            ]
          },
          "metadata": {
            "tags": []
          },
          "execution_count": 171
        }
      ]
    },
    {
      "cell_type": "code",
      "metadata": {
        "id": "9iJjFhttuuBz",
        "colab_type": "code",
        "colab": {
          "base_uri": "https://localhost:8080/",
          "height": 35
        },
        "outputId": "946e685d-4962-4f6e-eec1-832d95a89d75"
      },
      "source": [
        "range(1,100,10)"
      ],
      "execution_count": null,
      "outputs": [
        {
          "output_type": "execute_result",
          "data": {
            "text/plain": [
              "range(1, 100, 10)"
            ]
          },
          "metadata": {
            "tags": []
          },
          "execution_count": 170
        }
      ]
    },
    {
      "cell_type": "code",
      "metadata": {
        "id": "BOwFKVeTkN6x",
        "colab_type": "code",
        "colab": {
          "base_uri": "https://localhost:8080/",
          "height": 35
        },
        "outputId": "6857700d-7097-46b0-ddf0-441a0046542a"
      },
      "source": [
        "Fur2019 = Raw[Raw['Year']==2019][Raw['업종대분류']=='가전/가구']\n",
        "Fur2019['카드결제건수(천건)'].sum()"
      ],
      "execution_count": null,
      "outputs": [
        {
          "output_type": "execute_result",
          "data": {
            "text/plain": [
              "75245"
            ]
          },
          "metadata": {
            "tags": []
          },
          "execution_count": 126
        }
      ]
    },
    {
      "cell_type": "code",
      "metadata": {
        "id": "eWPfOPhfmz41",
        "colab_type": "code",
        "colab": {}
      },
      "source": [
        "def sum2019up(x):\n",
        "  data = Raw[Raw['Year']==2019][Raw['업종대분류']==x]\n",
        "  return data['카드결제건수(천건)'].sum()"
      ],
      "execution_count": null,
      "outputs": []
    },
    {
      "cell_type": "code",
      "metadata": {
        "id": "8WLYGJHIHbz3",
        "colab_type": "code",
        "colab": {}
      },
      "source": [
        "def sum2020up(x):\n",
        "  data = Raw[Raw['Year']==2020][Raw['업종대분류']==x]\n",
        "  return data['카드결제건수(천건)'].sum()"
      ],
      "execution_count": null,
      "outputs": []
    },
    {
      "cell_type": "code",
      "metadata": {
        "id": "NRdpycrIGNF_",
        "colab_type": "code",
        "colab": {
          "base_uri": "https://localhost:8080/",
          "height": 251
        },
        "outputId": "b3a56021-8282-4e62-9dec-9268227f5ce7"
      },
      "source": [
        "frame = Raw.head(13)\n",
        "data = list(frame['업종대분류'])\n",
        "category = []\n",
        "for item in data:\n",
        "  category.append(item)\n",
        "category"
      ],
      "execution_count": null,
      "outputs": [
        {
          "output_type": "execute_result",
          "data": {
            "text/plain": [
              "['가전/가구',\n",
              " '가정생활/서비스',\n",
              " '교육/학원',\n",
              " '미용',\n",
              " '스포츠/문화/레저',\n",
              " '여행/교통',\n",
              " '요식/유흥',\n",
              " '유통',\n",
              " '음/식료품',\n",
              " '의료',\n",
              " '자동차',\n",
              " '주유',\n",
              " '패션/잡화']"
            ]
          },
          "metadata": {
            "tags": []
          },
          "execution_count": 45
        }
      ]
    },
    {
      "cell_type": "code",
      "metadata": {
        "id": "TgKbdY2hGPJS",
        "colab_type": "code",
        "colab": {
          "base_uri": "https://localhost:8080/",
          "height": 251
        },
        "outputId": "c1fd5cd0-cb7f-4114-c962-6b4b25138cf1"
      },
      "source": [
        "sumup2019 = []\n",
        "for item in category:\n",
        "  sumup2019.append(sum2019up(item))\n",
        "sumup2019"
      ],
      "execution_count": null,
      "outputs": [
        {
          "output_type": "execute_result",
          "data": {
            "text/plain": [
              "[75245,\n",
              " 135797,\n",
              " 89085,\n",
              " 131615,\n",
              " 395531,\n",
              " 53119,\n",
              " 2754531,\n",
              " 3380596,\n",
              " 368699,\n",
              " 597521,\n",
              " 94085,\n",
              " 530406,\n",
              " 114904]"
            ]
          },
          "metadata": {
            "tags": []
          },
          "execution_count": 127
        }
      ]
    },
    {
      "cell_type": "code",
      "metadata": {
        "id": "RtASg_cvHZ7A",
        "colab_type": "code",
        "colab": {
          "base_uri": "https://localhost:8080/",
          "height": 251
        },
        "outputId": "64cbf324-5192-40ed-f113-e1b8ff9863cb"
      },
      "source": [
        "sumup2020 = []\n",
        "for item in category:\n",
        "  sumup2020.append(sum2020up(item))\n",
        "sumup2020"
      ],
      "execution_count": null,
      "outputs": [
        {
          "output_type": "execute_result",
          "data": {
            "text/plain": [
              "[52728,\n",
              " 102641,\n",
              " 56117,\n",
              " 79864,\n",
              " 241967,\n",
              " 25165,\n",
              " 1833133,\n",
              " 2329865,\n",
              " 285704,\n",
              " 464885,\n",
              " 65154,\n",
              " 360024,\n",
              " 70134]"
            ]
          },
          "metadata": {
            "tags": []
          },
          "execution_count": 128
        }
      ]
    },
    {
      "cell_type": "code",
      "metadata": {
        "id": "zNiYIi3hHqaK",
        "colab_type": "code",
        "colab": {
          "base_uri": "https://localhost:8080/",
          "height": 452
        },
        "outputId": "07a82454-940a-404b-86af-ead8230415e3"
      },
      "source": [
        "years = pd.DataFrame([sumup2019,sumup2020],index=[2019,2020],columns=category)\n",
        "year_info = years.T\n",
        "year_info"
      ],
      "execution_count": null,
      "outputs": [
        {
          "output_type": "execute_result",
          "data": {
            "text/html": [
              "<div>\n",
              "<style scoped>\n",
              "    .dataframe tbody tr th:only-of-type {\n",
              "        vertical-align: middle;\n",
              "    }\n",
              "\n",
              "    .dataframe tbody tr th {\n",
              "        vertical-align: top;\n",
              "    }\n",
              "\n",
              "    .dataframe thead th {\n",
              "        text-align: right;\n",
              "    }\n",
              "</style>\n",
              "<table border=\"1\" class=\"dataframe\">\n",
              "  <thead>\n",
              "    <tr style=\"text-align: right;\">\n",
              "      <th></th>\n",
              "      <th>2019</th>\n",
              "      <th>2020</th>\n",
              "    </tr>\n",
              "  </thead>\n",
              "  <tbody>\n",
              "    <tr>\n",
              "      <th>가전/가구</th>\n",
              "      <td>75245</td>\n",
              "      <td>52728</td>\n",
              "    </tr>\n",
              "    <tr>\n",
              "      <th>가정생활/서비스</th>\n",
              "      <td>135797</td>\n",
              "      <td>102641</td>\n",
              "    </tr>\n",
              "    <tr>\n",
              "      <th>교육/학원</th>\n",
              "      <td>89085</td>\n",
              "      <td>56117</td>\n",
              "    </tr>\n",
              "    <tr>\n",
              "      <th>미용</th>\n",
              "      <td>131615</td>\n",
              "      <td>79864</td>\n",
              "    </tr>\n",
              "    <tr>\n",
              "      <th>스포츠/문화/레저</th>\n",
              "      <td>395531</td>\n",
              "      <td>241967</td>\n",
              "    </tr>\n",
              "    <tr>\n",
              "      <th>여행/교통</th>\n",
              "      <td>53119</td>\n",
              "      <td>25165</td>\n",
              "    </tr>\n",
              "    <tr>\n",
              "      <th>요식/유흥</th>\n",
              "      <td>2754531</td>\n",
              "      <td>1833133</td>\n",
              "    </tr>\n",
              "    <tr>\n",
              "      <th>유통</th>\n",
              "      <td>3380596</td>\n",
              "      <td>2329865</td>\n",
              "    </tr>\n",
              "    <tr>\n",
              "      <th>음/식료품</th>\n",
              "      <td>368699</td>\n",
              "      <td>285704</td>\n",
              "    </tr>\n",
              "    <tr>\n",
              "      <th>의료</th>\n",
              "      <td>597521</td>\n",
              "      <td>464885</td>\n",
              "    </tr>\n",
              "    <tr>\n",
              "      <th>자동차</th>\n",
              "      <td>94085</td>\n",
              "      <td>65154</td>\n",
              "    </tr>\n",
              "    <tr>\n",
              "      <th>주유</th>\n",
              "      <td>530406</td>\n",
              "      <td>360024</td>\n",
              "    </tr>\n",
              "    <tr>\n",
              "      <th>패션/잡화</th>\n",
              "      <td>114904</td>\n",
              "      <td>70134</td>\n",
              "    </tr>\n",
              "  </tbody>\n",
              "</table>\n",
              "</div>"
            ],
            "text/plain": [
              "              2019     2020\n",
              "가전/가구        75245    52728\n",
              "가정생활/서비스    135797   102641\n",
              "교육/학원        89085    56117\n",
              "미용          131615    79864\n",
              "스포츠/문화/레저   395531   241967\n",
              "여행/교통        53119    25165\n",
              "요식/유흥      2754531  1833133\n",
              "유통         3380596  2329865\n",
              "음/식료품       368699   285704\n",
              "의료          597521   464885\n",
              "자동차          94085    65154\n",
              "주유          530406   360024\n",
              "패션/잡화       114904    70134"
            ]
          },
          "metadata": {
            "tags": []
          },
          "execution_count": 139
        }
      ]
    },
    {
      "cell_type": "code",
      "metadata": {
        "id": "2eroFG9cUpkH",
        "colab_type": "code",
        "colab": {}
      },
      "source": [
        "def percentage_change(current, previous):\n",
        "    if previous != 0 :\n",
        "        return float(current - previous) / abs(previous) * 100\n",
        "    else:\n",
        "        return \"undefined\""
      ],
      "execution_count": null,
      "outputs": []
    },
    {
      "cell_type": "code",
      "metadata": {
        "id": "_f1SbAWlXZ5K",
        "colab_type": "code",
        "colab": {
          "base_uri": "https://localhost:8080/",
          "height": 251
        },
        "outputId": "c90b8781-de62-45f4-e119-4a80d13a6f31"
      },
      "source": [
        "year_change = []\n",
        "for number in range(0,13):\n",
        "  year_change.append(percentage_change(year_info.iloc[number,0:2].values[1],year_info.iloc[number,0:2].values[0]))\n",
        "year_change"
      ],
      "execution_count": null,
      "outputs": [
        {
          "output_type": "execute_result",
          "data": {
            "text/plain": [
              "[-29.924911954282678,\n",
              " -24.415856020383366,\n",
              " -37.007352528484034,\n",
              " -39.319986323747294,\n",
              " -38.82476973991925,\n",
              " -52.62523767390199,\n",
              " -33.45026794034992,\n",
              " -31.081235379796933,\n",
              " -22.510231923601637,\n",
              " -22.197713553163823,\n",
              " -30.749853855556147,\n",
              " -32.122939785749026,\n",
              " -38.96296038432082]"
            ]
          },
          "metadata": {
            "tags": []
          },
          "execution_count": 146
        }
      ]
    },
    {
      "cell_type": "code",
      "metadata": {
        "id": "PeIga8iIVmva",
        "colab_type": "code",
        "colab": {
          "base_uri": "https://localhost:8080/",
          "height": 452
        },
        "outputId": "68b597b8-8a40-4a86-dd7f-d40a3519b7e0"
      },
      "source": [
        "year_info['변화율']=year_change\n",
        "year_info"
      ],
      "execution_count": null,
      "outputs": [
        {
          "output_type": "execute_result",
          "data": {
            "text/html": [
              "<div>\n",
              "<style scoped>\n",
              "    .dataframe tbody tr th:only-of-type {\n",
              "        vertical-align: middle;\n",
              "    }\n",
              "\n",
              "    .dataframe tbody tr th {\n",
              "        vertical-align: top;\n",
              "    }\n",
              "\n",
              "    .dataframe thead th {\n",
              "        text-align: right;\n",
              "    }\n",
              "</style>\n",
              "<table border=\"1\" class=\"dataframe\">\n",
              "  <thead>\n",
              "    <tr style=\"text-align: right;\">\n",
              "      <th></th>\n",
              "      <th>2019</th>\n",
              "      <th>2020</th>\n",
              "      <th>감소율</th>\n",
              "      <th>변화율</th>\n",
              "    </tr>\n",
              "  </thead>\n",
              "  <tbody>\n",
              "    <tr>\n",
              "      <th>가전/가구</th>\n",
              "      <td>75245</td>\n",
              "      <td>52728</td>\n",
              "      <td>-29.924912</td>\n",
              "      <td>-29.924912</td>\n",
              "    </tr>\n",
              "    <tr>\n",
              "      <th>가정생활/서비스</th>\n",
              "      <td>135797</td>\n",
              "      <td>102641</td>\n",
              "      <td>-24.415856</td>\n",
              "      <td>-24.415856</td>\n",
              "    </tr>\n",
              "    <tr>\n",
              "      <th>교육/학원</th>\n",
              "      <td>89085</td>\n",
              "      <td>56117</td>\n",
              "      <td>-37.007353</td>\n",
              "      <td>-37.007353</td>\n",
              "    </tr>\n",
              "    <tr>\n",
              "      <th>미용</th>\n",
              "      <td>131615</td>\n",
              "      <td>79864</td>\n",
              "      <td>-39.319986</td>\n",
              "      <td>-39.319986</td>\n",
              "    </tr>\n",
              "    <tr>\n",
              "      <th>스포츠/문화/레저</th>\n",
              "      <td>395531</td>\n",
              "      <td>241967</td>\n",
              "      <td>-38.824770</td>\n",
              "      <td>-38.824770</td>\n",
              "    </tr>\n",
              "    <tr>\n",
              "      <th>여행/교통</th>\n",
              "      <td>53119</td>\n",
              "      <td>25165</td>\n",
              "      <td>-52.625238</td>\n",
              "      <td>-52.625238</td>\n",
              "    </tr>\n",
              "    <tr>\n",
              "      <th>요식/유흥</th>\n",
              "      <td>2754531</td>\n",
              "      <td>1833133</td>\n",
              "      <td>-33.450268</td>\n",
              "      <td>-33.450268</td>\n",
              "    </tr>\n",
              "    <tr>\n",
              "      <th>유통</th>\n",
              "      <td>3380596</td>\n",
              "      <td>2329865</td>\n",
              "      <td>-31.081235</td>\n",
              "      <td>-31.081235</td>\n",
              "    </tr>\n",
              "    <tr>\n",
              "      <th>음/식료품</th>\n",
              "      <td>368699</td>\n",
              "      <td>285704</td>\n",
              "      <td>-22.510232</td>\n",
              "      <td>-22.510232</td>\n",
              "    </tr>\n",
              "    <tr>\n",
              "      <th>의료</th>\n",
              "      <td>597521</td>\n",
              "      <td>464885</td>\n",
              "      <td>-22.197714</td>\n",
              "      <td>-22.197714</td>\n",
              "    </tr>\n",
              "    <tr>\n",
              "      <th>자동차</th>\n",
              "      <td>94085</td>\n",
              "      <td>65154</td>\n",
              "      <td>-30.749854</td>\n",
              "      <td>-30.749854</td>\n",
              "    </tr>\n",
              "    <tr>\n",
              "      <th>주유</th>\n",
              "      <td>530406</td>\n",
              "      <td>360024</td>\n",
              "      <td>-32.122940</td>\n",
              "      <td>-32.122940</td>\n",
              "    </tr>\n",
              "    <tr>\n",
              "      <th>패션/잡화</th>\n",
              "      <td>114904</td>\n",
              "      <td>70134</td>\n",
              "      <td>-38.962960</td>\n",
              "      <td>-38.962960</td>\n",
              "    </tr>\n",
              "  </tbody>\n",
              "</table>\n",
              "</div>"
            ],
            "text/plain": [
              "              2019     2020        감소율        변화율\n",
              "가전/가구        75245    52728 -29.924912 -29.924912\n",
              "가정생활/서비스    135797   102641 -24.415856 -24.415856\n",
              "교육/학원        89085    56117 -37.007353 -37.007353\n",
              "미용          131615    79864 -39.319986 -39.319986\n",
              "스포츠/문화/레저   395531   241967 -38.824770 -38.824770\n",
              "여행/교통        53119    25165 -52.625238 -52.625238\n",
              "요식/유흥      2754531  1833133 -33.450268 -33.450268\n",
              "유통         3380596  2329865 -31.081235 -31.081235\n",
              "음/식료품       368699   285704 -22.510232 -22.510232\n",
              "의료          597521   464885 -22.197714 -22.197714\n",
              "자동차          94085    65154 -30.749854 -30.749854\n",
              "주유          530406   360024 -32.122940 -32.122940\n",
              "패션/잡화       114904    70134 -38.962960 -38.962960"
            ]
          },
          "metadata": {
            "tags": []
          },
          "execution_count": 153
        }
      ]
    },
    {
      "cell_type": "code",
      "metadata": {
        "id": "k2-B_Djck59f",
        "colab_type": "code",
        "colab": {}
      },
      "source": [
        "cha1 = list(year_info['변화율'])\n",
        "dim1 = []\n",
        "for item in cha:\n",
        "  dim1.append(-1*item)\n",
        "year_info['감소율'] = dim1"
      ],
      "execution_count": null,
      "outputs": []
    },
    {
      "cell_type": "code",
      "metadata": {
        "id": "caa7pwVwlIhy",
        "colab_type": "code",
        "colab": {
          "base_uri": "https://localhost:8080/",
          "height": 452
        },
        "outputId": "16e60411-788b-4854-f628-9bed38efe5bc"
      },
      "source": [
        "year_info"
      ],
      "execution_count": null,
      "outputs": [
        {
          "output_type": "execute_result",
          "data": {
            "text/html": [
              "<div>\n",
              "<style scoped>\n",
              "    .dataframe tbody tr th:only-of-type {\n",
              "        vertical-align: middle;\n",
              "    }\n",
              "\n",
              "    .dataframe tbody tr th {\n",
              "        vertical-align: top;\n",
              "    }\n",
              "\n",
              "    .dataframe thead th {\n",
              "        text-align: right;\n",
              "    }\n",
              "</style>\n",
              "<table border=\"1\" class=\"dataframe\">\n",
              "  <thead>\n",
              "    <tr style=\"text-align: right;\">\n",
              "      <th></th>\n",
              "      <th>2019</th>\n",
              "      <th>2020</th>\n",
              "      <th>감소율</th>\n",
              "      <th>변화율</th>\n",
              "    </tr>\n",
              "  </thead>\n",
              "  <tbody>\n",
              "    <tr>\n",
              "      <th>가전/가구</th>\n",
              "      <td>75245</td>\n",
              "      <td>52728</td>\n",
              "      <td>29.924912</td>\n",
              "      <td>-29.924912</td>\n",
              "    </tr>\n",
              "    <tr>\n",
              "      <th>가정생활/서비스</th>\n",
              "      <td>135797</td>\n",
              "      <td>102641</td>\n",
              "      <td>24.415856</td>\n",
              "      <td>-24.415856</td>\n",
              "    </tr>\n",
              "    <tr>\n",
              "      <th>교육/학원</th>\n",
              "      <td>89085</td>\n",
              "      <td>56117</td>\n",
              "      <td>37.007353</td>\n",
              "      <td>-37.007353</td>\n",
              "    </tr>\n",
              "    <tr>\n",
              "      <th>미용</th>\n",
              "      <td>131615</td>\n",
              "      <td>79864</td>\n",
              "      <td>39.319986</td>\n",
              "      <td>-39.319986</td>\n",
              "    </tr>\n",
              "    <tr>\n",
              "      <th>스포츠/문화/레저</th>\n",
              "      <td>395531</td>\n",
              "      <td>241967</td>\n",
              "      <td>38.824770</td>\n",
              "      <td>-38.824770</td>\n",
              "    </tr>\n",
              "    <tr>\n",
              "      <th>여행/교통</th>\n",
              "      <td>53119</td>\n",
              "      <td>25165</td>\n",
              "      <td>52.625238</td>\n",
              "      <td>-52.625238</td>\n",
              "    </tr>\n",
              "    <tr>\n",
              "      <th>요식/유흥</th>\n",
              "      <td>2754531</td>\n",
              "      <td>1833133</td>\n",
              "      <td>33.450268</td>\n",
              "      <td>-33.450268</td>\n",
              "    </tr>\n",
              "    <tr>\n",
              "      <th>유통</th>\n",
              "      <td>3380596</td>\n",
              "      <td>2329865</td>\n",
              "      <td>31.081235</td>\n",
              "      <td>-31.081235</td>\n",
              "    </tr>\n",
              "    <tr>\n",
              "      <th>음/식료품</th>\n",
              "      <td>368699</td>\n",
              "      <td>285704</td>\n",
              "      <td>22.510232</td>\n",
              "      <td>-22.510232</td>\n",
              "    </tr>\n",
              "    <tr>\n",
              "      <th>의료</th>\n",
              "      <td>597521</td>\n",
              "      <td>464885</td>\n",
              "      <td>22.197714</td>\n",
              "      <td>-22.197714</td>\n",
              "    </tr>\n",
              "    <tr>\n",
              "      <th>자동차</th>\n",
              "      <td>94085</td>\n",
              "      <td>65154</td>\n",
              "      <td>30.749854</td>\n",
              "      <td>-30.749854</td>\n",
              "    </tr>\n",
              "    <tr>\n",
              "      <th>주유</th>\n",
              "      <td>530406</td>\n",
              "      <td>360024</td>\n",
              "      <td>32.122940</td>\n",
              "      <td>-32.122940</td>\n",
              "    </tr>\n",
              "    <tr>\n",
              "      <th>패션/잡화</th>\n",
              "      <td>114904</td>\n",
              "      <td>70134</td>\n",
              "      <td>38.962960</td>\n",
              "      <td>-38.962960</td>\n",
              "    </tr>\n",
              "  </tbody>\n",
              "</table>\n",
              "</div>"
            ],
            "text/plain": [
              "              2019     2020        감소율        변화율\n",
              "가전/가구        75245    52728  29.924912 -29.924912\n",
              "가정생활/서비스    135797   102641  24.415856 -24.415856\n",
              "교육/학원        89085    56117  37.007353 -37.007353\n",
              "미용          131615    79864  39.319986 -39.319986\n",
              "스포츠/문화/레저   395531   241967  38.824770 -38.824770\n",
              "여행/교통        53119    25165  52.625238 -52.625238\n",
              "요식/유흥      2754531  1833133  33.450268 -33.450268\n",
              "유통         3380596  2329865  31.081235 -31.081235\n",
              "음/식료품       368699   285704  22.510232 -22.510232\n",
              "의료          597521   464885  22.197714 -22.197714\n",
              "자동차          94085    65154  30.749854 -30.749854\n",
              "주유          530406   360024  32.122940 -32.122940\n",
              "패션/잡화       114904    70134  38.962960 -38.962960"
            ]
          },
          "metadata": {
            "tags": []
          },
          "execution_count": 159
        }
      ]
    },
    {
      "cell_type": "code",
      "metadata": {
        "id": "cNaTtH2JXejR",
        "colab_type": "code",
        "colab": {
          "base_uri": "https://localhost:8080/",
          "height": 601
        },
        "outputId": "7e6f1ee0-2b74-4472-8b93-cb2750b86de1"
      },
      "source": [
        "x = np.arange(len(category))\n",
        "width = 0.35\n",
        "\n",
        "fig, ax = plt.subplots()\n",
        "rects1=ax.bar(x - width/2, sumup2019, width, label='2019')\n",
        "rects2=ax.bar(x + width/2, sumup2020, width, label='2020')\n",
        "ax.legend() \n",
        "\n",
        "def autolabel(rects):\n",
        "    for rect in rects:\n",
        "        height = rect.get_height() #막대의 높이를 height로 지정\n",
        "        ax.annotate('{}'.format(height),\n",
        "                    xy=(rect.get_x() + rect.get_width() / 2, height),\n",
        "                    xytext=(0, 3),  # 3 points vertical offset\n",
        "                    textcoords=\"offset points\",\n",
        "                    ha='center', va='bottom')\n",
        "        \n",
        "autolabel(rects1)\n",
        "autolabel(rects2)\n",
        "ax.set_xticks(x)\n",
        "ax.set_xticklabels(category)\n",
        "\n",
        "ax2 = ax.twinx()\n",
        "ax2.plot(year_info['감소율'],\n",
        "         linestyle='-',\n",
        "         marker='o', linewidth=2.0)\n",
        "plt.show()"
      ],
      "execution_count": null,
      "outputs": [
        {
          "output_type": "display_data",
          "data": {
            "image/png": "[encoded data removed]",
            "text/plain": [
              "<Figure size 1440x720 with 2 Axes>"
            ]
          },
          "metadata": {
            "tags": [],
            "needs_background": "light"
          }
        }
      ]
    },
    {
      "cell_type": "markdown",
      "metadata": {
        "id": "5WqRglKThQ5k",
        "colab_type": "text"
      },
      "source": [
        "### 3) 코로나 전후 카드사용빈도 분석"
      ]
    },
    {
      "cell_type": "code",
      "metadata": {
        "id": "utKPDv0WfN-f",
        "colab_type": "code",
        "colab": {}
      },
      "source": [
        "def before_covid(x):\n",
        "  data = Raw[Raw['이용일자']<20200121][Raw['업종대분류']==x]\n",
        "  return data['카드결제건수(천건)'].sum()"
      ],
      "execution_count": null,
      "outputs": []
    },
    {
      "cell_type": "code",
      "metadata": {
        "id": "2D_9MrzwfODG",
        "colab_type": "code",
        "colab": {}
      },
      "source": [
        "def after_covid(x):\n",
        "  data = Raw[Raw['이용일자']>=20200121][Raw['업종대분류']==x]\n",
        "  return data['카드결제건수(천건)'].sum()"
      ],
      "execution_count": null,
      "outputs": []
    },
    {
      "cell_type": "code",
      "metadata": {
        "id": "3116XuY1fOI4",
        "colab_type": "code",
        "colab": {
          "base_uri": "https://localhost:8080/",
          "height": 251
        },
        "outputId": "0c51874a-2a26-4e37-b656-d34e85dbc1d3"
      },
      "source": [
        "before_cov = []\n",
        "for item in category:\n",
        "  before_cov.append(before_covid(item))\n",
        "before_cov"
      ],
      "execution_count": null,
      "outputs": [
        {
          "output_type": "execute_result",
          "data": {
            "text/plain": [
              "[81706,\n",
              " 147004,\n",
              " 96350,\n",
              " 142664,\n",
              " 427931,\n",
              " 57467,\n",
              " 2970763,\n",
              " 3634099,\n",
              " 398143,\n",
              " 651176,\n",
              " 101824,\n",
              " 573394,\n",
              " 122839]"
            ]
          },
          "metadata": {
            "tags": []
          },
          "execution_count": 130
        }
      ]
    },
    {
      "cell_type": "code",
      "metadata": {
        "id": "51gi2RWrfOF-",
        "colab_type": "code",
        "colab": {
          "base_uri": "https://localhost:8080/",
          "height": 251
        },
        "outputId": "aa6a80ea-7075-4749-e23f-4db83dd29882"
      },
      "source": [
        "after_cov = []\n",
        "for item in category:\n",
        "  after_cov.append(after_covid(item))\n",
        "after_cov"
      ],
      "execution_count": null,
      "outputs": [
        {
          "output_type": "execute_result",
          "data": {
            "text/plain": [
              "[46267,\n",
              " 91434,\n",
              " 48852,\n",
              " 68815,\n",
              " 209567,\n",
              " 20817,\n",
              " 1616901,\n",
              " 2076362,\n",
              " 256260,\n",
              " 411230,\n",
              " 57415,\n",
              " 317036,\n",
              " 62199]"
            ]
          },
          "metadata": {
            "tags": []
          },
          "execution_count": 131
        }
      ]
    },
    {
      "cell_type": "code",
      "metadata": {
        "id": "Xm1M0Kfhhq1N",
        "colab_type": "code",
        "colab": {
          "base_uri": "https://localhost:8080/",
          "height": 452
        },
        "outputId": "907652d6-b2f9-4ad2-c139-6ed90445c1c7"
      },
      "source": [
        "corona = pd.DataFrame([before_cov,after_cov],index=['before_cov','after_cov'],columns=category)\n",
        "corona_info = corona.T\n",
        "corona_info"
      ],
      "execution_count": null,
      "outputs": [
        {
          "output_type": "execute_result",
          "data": {
            "text/html": [
              "<div>\n",
              "<style scoped>\n",
              "    .dataframe tbody tr th:only-of-type {\n",
              "        vertical-align: middle;\n",
              "    }\n",
              "\n",
              "    .dataframe tbody tr th {\n",
              "        vertical-align: top;\n",
              "    }\n",
              "\n",
              "    .dataframe thead th {\n",
              "        text-align: right;\n",
              "    }\n",
              "</style>\n",
              "<table border=\"1\" class=\"dataframe\">\n",
              "  <thead>\n",
              "    <tr style=\"text-align: right;\">\n",
              "      <th></th>\n",
              "      <th>before_cov</th>\n",
              "      <th>after_cov</th>\n",
              "    </tr>\n",
              "  </thead>\n",
              "  <tbody>\n",
              "    <tr>\n",
              "      <th>가전/가구</th>\n",
              "      <td>81706</td>\n",
              "      <td>46267</td>\n",
              "    </tr>\n",
              "    <tr>\n",
              "      <th>가정생활/서비스</th>\n",
              "      <td>147004</td>\n",
              "      <td>91434</td>\n",
              "    </tr>\n",
              "    <tr>\n",
              "      <th>교육/학원</th>\n",
              "      <td>96350</td>\n",
              "      <td>48852</td>\n",
              "    </tr>\n",
              "    <tr>\n",
              "      <th>미용</th>\n",
              "      <td>142664</td>\n",
              "      <td>68815</td>\n",
              "    </tr>\n",
              "    <tr>\n",
              "      <th>스포츠/문화/레저</th>\n",
              "      <td>427931</td>\n",
              "      <td>209567</td>\n",
              "    </tr>\n",
              "    <tr>\n",
              "      <th>여행/교통</th>\n",
              "      <td>57467</td>\n",
              "      <td>20817</td>\n",
              "    </tr>\n",
              "    <tr>\n",
              "      <th>요식/유흥</th>\n",
              "      <td>2970763</td>\n",
              "      <td>1616901</td>\n",
              "    </tr>\n",
              "    <tr>\n",
              "      <th>유통</th>\n",
              "      <td>3634099</td>\n",
              "      <td>2076362</td>\n",
              "    </tr>\n",
              "    <tr>\n",
              "      <th>음/식료품</th>\n",
              "      <td>398143</td>\n",
              "      <td>256260</td>\n",
              "    </tr>\n",
              "    <tr>\n",
              "      <th>의료</th>\n",
              "      <td>651176</td>\n",
              "      <td>411230</td>\n",
              "    </tr>\n",
              "    <tr>\n",
              "      <th>자동차</th>\n",
              "      <td>101824</td>\n",
              "      <td>57415</td>\n",
              "    </tr>\n",
              "    <tr>\n",
              "      <th>주유</th>\n",
              "      <td>573394</td>\n",
              "      <td>317036</td>\n",
              "    </tr>\n",
              "    <tr>\n",
              "      <th>패션/잡화</th>\n",
              "      <td>122839</td>\n",
              "      <td>62199</td>\n",
              "    </tr>\n",
              "  </tbody>\n",
              "</table>\n",
              "</div>"
            ],
            "text/plain": [
              "           before_cov  after_cov\n",
              "가전/가구           81706      46267\n",
              "가정생활/서비스       147004      91434\n",
              "교육/학원           96350      48852\n",
              "미용             142664      68815\n",
              "스포츠/문화/레저      427931     209567\n",
              "여행/교통           57467      20817\n",
              "요식/유흥         2970763    1616901\n",
              "유통            3634099    2076362\n",
              "음/식료품          398143     256260\n",
              "의료             651176     411230\n",
              "자동차            101824      57415\n",
              "주유             573394     317036\n",
              "패션/잡화          122839      62199"
            ]
          },
          "metadata": {
            "tags": []
          },
          "execution_count": 144
        }
      ]
    },
    {
      "cell_type": "code",
      "metadata": {
        "id": "qd972Ixfij8I",
        "colab_type": "code",
        "colab": {
          "base_uri": "https://localhost:8080/",
          "height": 251
        },
        "outputId": "610221fa-bb87-4a78-8cf7-1d8a59e2ed44"
      },
      "source": [
        "corona_change = []\n",
        "for number in range(0,13):\n",
        "  corona_change.append(percentage_change(corona_info.iloc[number,0:2].values[1],corona_info.iloc[number,0:2].values[0]))\n",
        "corona_change"
      ],
      "execution_count": null,
      "outputs": [
        {
          "output_type": "execute_result",
          "data": {
            "text/plain": [
              "[-43.37380363743177,\n",
              " -37.80169247095317,\n",
              " -49.297353399065905,\n",
              " -51.76428531374418,\n",
              " -51.02785262110013,\n",
              " -63.775732159326225,\n",
              " -45.57287134651939,\n",
              " -42.86446241558086,\n",
              " -35.63619101679547,\n",
              " -36.84810250992051,\n",
              " -43.6134899434318,\n",
              " -44.70887382846699,\n",
              " -49.3654295459911]"
            ]
          },
          "metadata": {
            "tags": []
          },
          "execution_count": 145
        }
      ]
    },
    {
      "cell_type": "code",
      "metadata": {
        "id": "exVQIy8NjNGf",
        "colab_type": "code",
        "colab": {
          "base_uri": "https://localhost:8080/",
          "height": 452
        },
        "outputId": "afa90225-097c-4290-ff61-faea4666a510"
      },
      "source": [
        "corona_info['변화율']=corona_change\n",
        "corona_info"
      ],
      "execution_count": null,
      "outputs": [
        {
          "output_type": "execute_result",
          "data": {
            "text/html": [
              "<div>\n",
              "<style scoped>\n",
              "    .dataframe tbody tr th:only-of-type {\n",
              "        vertical-align: middle;\n",
              "    }\n",
              "\n",
              "    .dataframe tbody tr th {\n",
              "        vertical-align: top;\n",
              "    }\n",
              "\n",
              "    .dataframe thead th {\n",
              "        text-align: right;\n",
              "    }\n",
              "</style>\n",
              "<table border=\"1\" class=\"dataframe\">\n",
              "  <thead>\n",
              "    <tr style=\"text-align: right;\">\n",
              "      <th></th>\n",
              "      <th>before_cov</th>\n",
              "      <th>after_cov</th>\n",
              "      <th>감소율</th>\n",
              "      <th>변화율</th>\n",
              "    </tr>\n",
              "  </thead>\n",
              "  <tbody>\n",
              "    <tr>\n",
              "      <th>가전/가구</th>\n",
              "      <td>81706</td>\n",
              "      <td>46267</td>\n",
              "      <td>-43.373804</td>\n",
              "      <td>-43.373804</td>\n",
              "    </tr>\n",
              "    <tr>\n",
              "      <th>가정생활/서비스</th>\n",
              "      <td>147004</td>\n",
              "      <td>91434</td>\n",
              "      <td>-37.801692</td>\n",
              "      <td>-37.801692</td>\n",
              "    </tr>\n",
              "    <tr>\n",
              "      <th>교육/학원</th>\n",
              "      <td>96350</td>\n",
              "      <td>48852</td>\n",
              "      <td>-49.297353</td>\n",
              "      <td>-49.297353</td>\n",
              "    </tr>\n",
              "    <tr>\n",
              "      <th>미용</th>\n",
              "      <td>142664</td>\n",
              "      <td>68815</td>\n",
              "      <td>-51.764285</td>\n",
              "      <td>-51.764285</td>\n",
              "    </tr>\n",
              "    <tr>\n",
              "      <th>스포츠/문화/레저</th>\n",
              "      <td>427931</td>\n",
              "      <td>209567</td>\n",
              "      <td>-51.027853</td>\n",
              "      <td>-51.027853</td>\n",
              "    </tr>\n",
              "    <tr>\n",
              "      <th>여행/교통</th>\n",
              "      <td>57467</td>\n",
              "      <td>20817</td>\n",
              "      <td>-63.775732</td>\n",
              "      <td>-63.775732</td>\n",
              "    </tr>\n",
              "    <tr>\n",
              "      <th>요식/유흥</th>\n",
              "      <td>2970763</td>\n",
              "      <td>1616901</td>\n",
              "      <td>-45.572871</td>\n",
              "      <td>-45.572871</td>\n",
              "    </tr>\n",
              "    <tr>\n",
              "      <th>유통</th>\n",
              "      <td>3634099</td>\n",
              "      <td>2076362</td>\n",
              "      <td>-42.864462</td>\n",
              "      <td>-42.864462</td>\n",
              "    </tr>\n",
              "    <tr>\n",
              "      <th>음/식료품</th>\n",
              "      <td>398143</td>\n",
              "      <td>256260</td>\n",
              "      <td>-35.636191</td>\n",
              "      <td>-35.636191</td>\n",
              "    </tr>\n",
              "    <tr>\n",
              "      <th>의료</th>\n",
              "      <td>651176</td>\n",
              "      <td>411230</td>\n",
              "      <td>-36.848103</td>\n",
              "      <td>-36.848103</td>\n",
              "    </tr>\n",
              "    <tr>\n",
              "      <th>자동차</th>\n",
              "      <td>101824</td>\n",
              "      <td>57415</td>\n",
              "      <td>-43.613490</td>\n",
              "      <td>-43.613490</td>\n",
              "    </tr>\n",
              "    <tr>\n",
              "      <th>주유</th>\n",
              "      <td>573394</td>\n",
              "      <td>317036</td>\n",
              "      <td>-44.708874</td>\n",
              "      <td>-44.708874</td>\n",
              "    </tr>\n",
              "    <tr>\n",
              "      <th>패션/잡화</th>\n",
              "      <td>122839</td>\n",
              "      <td>62199</td>\n",
              "      <td>-49.365430</td>\n",
              "      <td>-49.365430</td>\n",
              "    </tr>\n",
              "  </tbody>\n",
              "</table>\n",
              "</div>"
            ],
            "text/plain": [
              "           before_cov  after_cov        감소율        변화율\n",
              "가전/가구           81706      46267 -43.373804 -43.373804\n",
              "가정생활/서비스       147004      91434 -37.801692 -37.801692\n",
              "교육/학원           96350      48852 -49.297353 -49.297353\n",
              "미용             142664      68815 -51.764285 -51.764285\n",
              "스포츠/문화/레저      427931     209567 -51.027853 -51.027853\n",
              "여행/교통           57467      20817 -63.775732 -63.775732\n",
              "요식/유흥         2970763    1616901 -45.572871 -45.572871\n",
              "유통            3634099    2076362 -42.864462 -42.864462\n",
              "음/식료품          398143     256260 -35.636191 -35.636191\n",
              "의료             651176     411230 -36.848103 -36.848103\n",
              "자동차            101824      57415 -43.613490 -43.613490\n",
              "주유             573394     317036 -44.708874 -44.708874\n",
              "패션/잡화          122839      62199 -49.365430 -49.365430"
            ]
          },
          "metadata": {
            "tags": []
          },
          "execution_count": 161
        }
      ]
    },
    {
      "cell_type": "code",
      "metadata": {
        "id": "wpkALXqLloH8",
        "colab_type": "code",
        "colab": {}
      },
      "source": [
        "cha2 = list(corona_info['변화율'])\n",
        "dim2 = []\n",
        "for item in cha2:\n",
        "  dim2.append(-1*item)\n",
        "corona_info['감소율'] = dim2"
      ],
      "execution_count": null,
      "outputs": []
    },
    {
      "cell_type": "code",
      "metadata": {
        "id": "uP6-EhJXl6I_",
        "colab_type": "code",
        "colab": {
          "base_uri": "https://localhost:8080/",
          "height": 452
        },
        "outputId": "e98641a3-0119-43b0-bce5-5852508f74cf"
      },
      "source": [
        "corona_info"
      ],
      "execution_count": null,
      "outputs": [
        {
          "output_type": "execute_result",
          "data": {
            "text/html": [
              "<div>\n",
              "<style scoped>\n",
              "    .dataframe tbody tr th:only-of-type {\n",
              "        vertical-align: middle;\n",
              "    }\n",
              "\n",
              "    .dataframe tbody tr th {\n",
              "        vertical-align: top;\n",
              "    }\n",
              "\n",
              "    .dataframe thead th {\n",
              "        text-align: right;\n",
              "    }\n",
              "</style>\n",
              "<table border=\"1\" class=\"dataframe\">\n",
              "  <thead>\n",
              "    <tr style=\"text-align: right;\">\n",
              "      <th></th>\n",
              "      <th>before_cov</th>\n",
              "      <th>after_cov</th>\n",
              "      <th>감소율</th>\n",
              "      <th>변화율</th>\n",
              "    </tr>\n",
              "  </thead>\n",
              "  <tbody>\n",
              "    <tr>\n",
              "      <th>가전/가구</th>\n",
              "      <td>81706</td>\n",
              "      <td>46267</td>\n",
              "      <td>43.373804</td>\n",
              "      <td>-43.373804</td>\n",
              "    </tr>\n",
              "    <tr>\n",
              "      <th>가정생활/서비스</th>\n",
              "      <td>147004</td>\n",
              "      <td>91434</td>\n",
              "      <td>37.801692</td>\n",
              "      <td>-37.801692</td>\n",
              "    </tr>\n",
              "    <tr>\n",
              "      <th>교육/학원</th>\n",
              "      <td>96350</td>\n",
              "      <td>48852</td>\n",
              "      <td>49.297353</td>\n",
              "      <td>-49.297353</td>\n",
              "    </tr>\n",
              "    <tr>\n",
              "      <th>미용</th>\n",
              "      <td>142664</td>\n",
              "      <td>68815</td>\n",
              "      <td>51.764285</td>\n",
              "      <td>-51.764285</td>\n",
              "    </tr>\n",
              "    <tr>\n",
              "      <th>스포츠/문화/레저</th>\n",
              "      <td>427931</td>\n",
              "      <td>209567</td>\n",
              "      <td>51.027853</td>\n",
              "      <td>-51.027853</td>\n",
              "    </tr>\n",
              "    <tr>\n",
              "      <th>여행/교통</th>\n",
              "      <td>57467</td>\n",
              "      <td>20817</td>\n",
              "      <td>63.775732</td>\n",
              "      <td>-63.775732</td>\n",
              "    </tr>\n",
              "    <tr>\n",
              "      <th>요식/유흥</th>\n",
              "      <td>2970763</td>\n",
              "      <td>1616901</td>\n",
              "      <td>45.572871</td>\n",
              "      <td>-45.572871</td>\n",
              "    </tr>\n",
              "    <tr>\n",
              "      <th>유통</th>\n",
              "      <td>3634099</td>\n",
              "      <td>2076362</td>\n",
              "      <td>42.864462</td>\n",
              "      <td>-42.864462</td>\n",
              "    </tr>\n",
              "    <tr>\n",
              "      <th>음/식료품</th>\n",
              "      <td>398143</td>\n",
              "      <td>256260</td>\n",
              "      <td>35.636191</td>\n",
              "      <td>-35.636191</td>\n",
              "    </tr>\n",
              "    <tr>\n",
              "      <th>의료</th>\n",
              "      <td>651176</td>\n",
              "      <td>411230</td>\n",
              "      <td>36.848103</td>\n",
              "      <td>-36.848103</td>\n",
              "    </tr>\n",
              "    <tr>\n",
              "      <th>자동차</th>\n",
              "      <td>101824</td>\n",
              "      <td>57415</td>\n",
              "      <td>43.613490</td>\n",
              "      <td>-43.613490</td>\n",
              "    </tr>\n",
              "    <tr>\n",
              "      <th>주유</th>\n",
              "      <td>573394</td>\n",
              "      <td>317036</td>\n",
              "      <td>44.708874</td>\n",
              "      <td>-44.708874</td>\n",
              "    </tr>\n",
              "    <tr>\n",
              "      <th>패션/잡화</th>\n",
              "      <td>122839</td>\n",
              "      <td>62199</td>\n",
              "      <td>49.365430</td>\n",
              "      <td>-49.365430</td>\n",
              "    </tr>\n",
              "  </tbody>\n",
              "</table>\n",
              "</div>"
            ],
            "text/plain": [
              "           before_cov  after_cov        감소율        변화율\n",
              "가전/가구           81706      46267  43.373804 -43.373804\n",
              "가정생활/서비스       147004      91434  37.801692 -37.801692\n",
              "교육/학원           96350      48852  49.297353 -49.297353\n",
              "미용             142664      68815  51.764285 -51.764285\n",
              "스포츠/문화/레저      427931     209567  51.027853 -51.027853\n",
              "여행/교통           57467      20817  63.775732 -63.775732\n",
              "요식/유흥         2970763    1616901  45.572871 -45.572871\n",
              "유통            3634099    2076362  42.864462 -42.864462\n",
              "음/식료품          398143     256260  35.636191 -35.636191\n",
              "의료             651176     411230  36.848103 -36.848103\n",
              "자동차            101824      57415  43.613490 -43.613490\n",
              "주유             573394     317036  44.708874 -44.708874\n",
              "패션/잡화          122839      62199  49.365430 -49.365430"
            ]
          },
          "metadata": {
            "tags": []
          },
          "execution_count": 163
        }
      ]
    },
    {
      "cell_type": "code",
      "metadata": {
        "id": "RcouOZr4fOBC",
        "colab_type": "code",
        "colab": {
          "base_uri": "https://localhost:8080/",
          "height": 601
        },
        "outputId": "e56457e1-18ee-4c0a-af1b-94b81390b9a2"
      },
      "source": [
        "x = np.arange(len(category))\n",
        "width = 0.35\n",
        "\n",
        "fig, ax = plt.subplots()\n",
        "rects1=ax.bar(x - width/2, before_cov, width, label='before_covid')\n",
        "rects2=ax.bar(x + width/2, after_cov, width, label='after_covid')\n",
        "ax.legend() \n",
        "        \n",
        "autolabel(rects1)\n",
        "autolabel(rects2)\n",
        "ax.set_xticks(x)\n",
        "ax.set_xticklabels(category)\n",
        "\n",
        "ax2 = ax.twinx()\n",
        "ax2.plot(corona_info['감소율'],\n",
        "         linestyle='-',\n",
        "         marker='o', linewidth=2.0)\n",
        "plt.show()"
      ],
      "execution_count": null,
      "outputs": [
        {
          "output_type": "display_data",
          "data": {
            "image/png": "[encoded data removed]",
            "text/plain": [
              "<Figure size 1440x720 with 2 Axes>"
            ]
          },
          "metadata": {
            "tags": [],
            "needs_background": "light"
          }
        }
      ]
    }
  ]
}