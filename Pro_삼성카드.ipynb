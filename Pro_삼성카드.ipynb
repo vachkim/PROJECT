{
  "nbformat": 4,
  "nbformat_minor": 0,
  "metadata": {
    "colab": {
      "name": "Pro_삼성카드.ipynb",
      "provenance": [],
      "collapsed_sections": [],
      "toc_visible": true,
      "authorship_tag": "ABX9TyMvxpiSB9qW/lM6d+Xqpf6P",
      "include_colab_link": true
    },
    "kernelspec": {
      "name": "python3",
      "display_name": "Python 3"
    }
  },
  "cells": [
    {
      "cell_type": "markdown",
      "metadata": {
        "id": "view-in-github",
        "colab_type": "text"
      },
      "source": [
        "<a href=\"https://colab.research.google.com/github/vachkim/PROJECT/blob/master/Pro_%EC%82%BC%EC%84%B1%EC%B9%B4%EB%93%9C.ipynb\" target=\"_parent\"><img src=\"https://colab.research.google.com/assets/colab-badge.svg\" alt=\"Open In Colab\"/></a>"
      ]
    },
    {
      "cell_type": "markdown",
      "metadata": {
        "id": "yhUGRloP0HiX",
        "colab_type": "text"
      },
      "source": [
        "### 1) 삼성카드 Data Competition\n",
        "- 주제\n",
        "  + Pendemic 시대를 극복할 마케팅 전략\n",
        "  + 소비패턴을 분석하여 코로나19 영향을 받은 업종 분석 후, 업종별 카드 이용률 증대 전략 제안\n",
        "\n",
        "- 데이터 설명\n",
        "  + Track2_데이터1, Track2_데이터2는 2019 4-5월과 2020년 4-5월 업종별 카드 이용건수입니다 \n",
        "  + 주어진 데이터를 분석 및 해석하고, 이를 바탕으로 펜데믹 시대를 극복할 마케팅 전략을 수립해 보세요\n",
        "\n",
        "\n"
      ]
    },
    {
      "cell_type": "markdown",
      "metadata": {
        "id": "bEHPopir0ax3",
        "colab_type": "text"
      },
      "source": [
        "### 2) Colab 설정\n",
        "- 제공받은 데이터는 한국어로 이루어져 있다\n",
        "- 이에 데이터를 원활하게 출력할 수 있도록 나눔 폰트를 미리 설치한다\n",
        "- 폰트 설치를 위한 방법은 [다음](https://chloevan.github.io/settings/kakao_arena_3_eda/#1-%EB%82%98%EB%88%94%EA%B3%A0%EB%94%95-%ED%8F%B0%ED%8A%B8-%EB%B6%88%EB%9F%AC%EC%98%A4%EA%B8%B0)을 참조한다"
      ]
    },
    {
      "cell_type": "code",
      "metadata": {
        "id": "FWEhKzy_0sGk",
        "colab_type": "code",
        "colab": {
          "base_uri": "https://localhost:8080/",
          "height": 269
        },
        "outputId": "9d08a70d-ee99-424d-bcc9-58e4364445c0"
      },
      "source": [
        "%config InlineBackend.figure_format = 'retina'\n",
        "!apt -qq -y install fonts-nanum"
      ],
      "execution_count": null,
      "outputs": [
        {
          "output_type": "stream",
          "text": [
            "The following package was automatically installed and is no longer required:\n",
            "  libnvidia-common-440\n",
            "Use 'apt autoremove' to remove it.\n",
            "The following NEW packages will be installed:\n",
            "  fonts-nanum\n",
            "0 upgraded, 1 newly installed, 0 to remove and 35 not upgraded.\n",
            "Need to get 9,604 kB of archives.\n",
            "After this operation, 29.5 MB of additional disk space will be used.\n",
            "Selecting previously unselected package fonts-nanum.\n",
            "(Reading database ... 144556 files and directories currently installed.)\n",
            "Preparing to unpack .../fonts-nanum_20170925-1_all.deb ...\n",
            "Unpacking fonts-nanum (20170925-1) ...\n",
            "Setting up fonts-nanum (20170925-1) ...\n",
            "Processing triggers for fontconfig (2.12.6-0ubuntu2) ...\n"
          ],
          "name": "stdout"
        }
      ]
    },
    {
      "cell_type": "code",
      "metadata": {
        "id": "mHAH2KDo0to_",
        "colab_type": "code",
        "colab": {
          "base_uri": "https://localhost:8080/",
          "height": 53
        },
        "outputId": "8a932fda-3f67-4dff-b8f9-8fe01f5ff604"
      },
      "source": [
        "from pandas.plotting import register_matplotlib_converters\n",
        "import seaborn as sns\n",
        "import matplotlib.pyplot as plt\n",
        "import matplotlib as mpl\n",
        "import matplotlib.pyplot as plt\n",
        "import matplotlib.font_manager as fm"
      ],
      "execution_count": null,
      "outputs": [
        {
          "output_type": "stream",
          "text": [
            "/usr/local/lib/python3.6/dist-packages/statsmodels/tools/_testing.py:19: FutureWarning: pandas.util.testing is deprecated. Use the functions in the public API at pandas.testing instead.\n",
            "  import pandas.util.testing as tm\n"
          ],
          "name": "stderr"
        }
      ]
    },
    {
      "cell_type": "code",
      "metadata": {
        "id": "UNu-Srdh0uvW",
        "colab_type": "code",
        "colab": {}
      },
      "source": [
        "fontpath = '/usr/share/fonts/truetype/nanum/NanumBarunGothic.ttf'\n",
        "font = fm.FontProperties(fname=fontpath, size=9)\n",
        "plt.rc('font', family='NanumBarunGothic') \n",
        "plt.rcParams[\"figure.figsize\"] = (20, 10)\n",
        "register_matplotlib_converters()\n",
        "mpl.font_manager._rebuild()\n",
        "mpl.pyplot.rc('font', family='NanumGothic')\n",
        "fm._rebuild()"
      ],
      "execution_count": null,
      "outputs": []
    },
    {
      "cell_type": "markdown",
      "metadata": {
        "id": "5m3Z_H3a04Ji",
        "colab_type": "text"
      },
      "source": [
        "- 또한 Colab의 경고 기능을 무효화해 출력에 이상이 없도록 한다"
      ]
    },
    {
      "cell_type": "code",
      "metadata": {
        "id": "IFyiAIdI09Jo",
        "colab_type": "code",
        "colab": {}
      },
      "source": [
        "import warnings\n",
        "warnings.filterwarnings('ignore')"
      ],
      "execution_count": null,
      "outputs": []
    },
    {
      "cell_type": "markdown",
      "metadata": {
        "id": "FcZ7D7Ct0R8m",
        "colab_type": "text"
      },
      "source": [
        "### 3) 데이터 불러오기\n",
        "- 구글 드라이브에 포함된 데이터를 Colab에 불러와보자"
      ]
    },
    {
      "cell_type": "code",
      "metadata": {
        "id": "oPsEFmoQiFa3",
        "colab_type": "code",
        "colab": {
          "base_uri": "https://localhost:8080/",
          "height": 127
        },
        "outputId": "f1941a38-5ecc-4a55-e353-499c7849375a"
      },
      "source": [
        "from google.colab import drive\n",
        "ROOT = '/content/drive'\n",
        "drive.mount(ROOT)"
      ],
      "execution_count": null,
      "outputs": [
        {
          "output_type": "stream",
          "text": [
            "Go to this URL in a browser: https://accounts.google.com/o/oauth2/auth?client_id=947318989803-6bn6qk8qdgf4n4g3pfee6491hc0brc4i.apps.googleusercontent.com&redirect_uri=urn%3aietf%3awg%3aoauth%3a2.0%3aoob&scope=email%20https%3a%2f%2fwww.googleapis.com%2fauth%2fdocs.test%20https%3a%2f%2fwww.googleapis.com%2fauth%2fdrive%20https%3a%2f%2fwww.googleapis.com%2fauth%2fdrive.photos.readonly%20https%3a%2f%2fwww.googleapis.com%2fauth%2fpeopleapi.readonly&response_type=code\n",
            "\n",
            "Enter your authorization code:\n",
            "··········\n",
            "Mounted at /content/drive\n"
          ],
          "name": "stdout"
        }
      ]
    },
    {
      "cell_type": "code",
      "metadata": {
        "id": "uB0_WNwG1AOX",
        "colab_type": "code",
        "colab": {
          "base_uri": "https://localhost:8080/",
          "height": 35
        },
        "outputId": "762af2ea-dfec-466f-f708-279af137bb74"
      },
      "source": [
        "%cd drive/'My Drive'/'Colab Notebooks'/'samsung_data'"
      ],
      "execution_count": null,
      "outputs": [
        {
          "output_type": "stream",
          "text": [
            "/content/drive/My Drive/Colab Notebooks/samsung_data\n"
          ],
          "name": "stdout"
        }
      ]
    },
    {
      "cell_type": "code",
      "metadata": {
        "id": "xs-vwkLj1BRO",
        "colab_type": "code",
        "colab": {
          "base_uri": "https://localhost:8080/",
          "height": 89
        },
        "outputId": "1eddca86-7ed6-465d-9299-a0008663cafa"
      },
      "source": [
        "%ls"
      ],
      "execution_count": null,
      "outputs": [
        {
          "output_type": "stream",
          "text": [
            "'[기타] SCDC_공모전 테이블 설명.xlsx'  '[Track1_데이터4] variable_dtype.xlsx'\n",
            "'[Track1_데이터1] mrc_info.csv'        '[Track2_데이터1] trend_w_demo.csv'\n",
            "'[Track1_데이터2] samp_train.csv'      '[Track2_데이터2] 업종_예시.xlsx'\n",
            "'[Track1_데이터3] samp_cst_feat.csv'\n"
          ],
          "name": "stdout"
        }
      ]
    },
    {
      "cell_type": "markdown",
      "metadata": {
        "id": "P1aJN0vt1EIi",
        "colab_type": "text"
      },
      "source": [
        "- 불러온 데이터 중 Track 1의 데이터는 온라인 매장에서 카드를 사용한 고객에 대한 정보로 코로나 상황과 무관하다\n",
        "- 본 분석의 목표는 코로나가 업종별로 끼친 영향을 확인하고 \n",
        "- 카드 사용율을 높일 수 있는 전략을 수립하는 것이기 때문에 Track 1의 데이터를 분석에서 제한다"
      ]
    },
    {
      "cell_type": "code",
      "metadata": {
        "id": "FLGlwBjx1VeT",
        "colab_type": "code",
        "colab": {}
      },
      "source": [
        "import pandas as pd\n",
        "card = pd.read_csv('[Track2_데이터1] trend_w_demo.csv', encoding='CP949')\n",
        "descr = pd.read_excel('[기타] SCDC_공모전 테이블 설명.xlsx',sheet_name = '트랙2', encoding='CP949')"
      ],
      "execution_count": null,
      "outputs": []
    },
    {
      "cell_type": "markdown",
      "metadata": {
        "id": "FNjVT6j11eHB",
        "colab_type": "text"
      },
      "source": [
        "- 위에서 card는 코로나 전인 2014.04-05와 코로나 이후인 2020.04-05의 카드 사용 내역에 대한 정보이다\n",
        "- descr는 card 데이터셋에 대한 설명을 포함하고 있다\n",
        "- 그 내용은 아래와 같다"
      ]
    },
    {
      "cell_type": "code",
      "metadata": {
        "id": "zVdgQJm01v_K",
        "colab_type": "code",
        "colab": {
          "base_uri": "https://localhost:8080/",
          "height": 421
        },
        "outputId": "e850e652-ffb7-4a2e-ad86-573b01a269ed"
      },
      "source": [
        "descr.head(15)"
      ],
      "execution_count": null,
      "outputs": [
        {
          "output_type": "execute_result",
          "data": {
            "text/html": [
              "<div>\n",
              "<style scoped>\n",
              "    .dataframe tbody tr th:only-of-type {\n",
              "        vertical-align: middle;\n",
              "    }\n",
              "\n",
              "    .dataframe tbody tr th {\n",
              "        vertical-align: top;\n",
              "    }\n",
              "\n",
              "    .dataframe thead th {\n",
              "        text-align: right;\n",
              "    }\n",
              "</style>\n",
              "<table border=\"1\" class=\"dataframe\">\n",
              "  <thead>\n",
              "    <tr style=\"text-align: right;\">\n",
              "      <th></th>\n",
              "      <th>No.</th>\n",
              "      <th>파일목록</th>\n",
              "      <th>파일 용량</th>\n",
              "      <th>데이터 개수</th>\n",
              "      <th>파일 내용</th>\n",
              "      <th>컬럼명</th>\n",
              "      <th>컬럼 내용</th>\n",
              "    </tr>\n",
              "  </thead>\n",
              "  <tbody>\n",
              "    <tr>\n",
              "      <th>0</th>\n",
              "      <td>1.0</td>\n",
              "      <td>trend_w_demo.csv</td>\n",
              "      <td>19.5 MB</td>\n",
              "      <td>452038.0</td>\n",
              "      <td>온라인 가맹점 업종 정보.</td>\n",
              "      <td>YM</td>\n",
              "      <td>이용 연월</td>\n",
              "    </tr>\n",
              "    <tr>\n",
              "      <th>1</th>\n",
              "      <td>NaN</td>\n",
              "      <td>NaN</td>\n",
              "      <td>NaN</td>\n",
              "      <td>NaN</td>\n",
              "      <td>NaN</td>\n",
              "      <td>Category</td>\n",
              "      <td>이용 업종</td>\n",
              "    </tr>\n",
              "    <tr>\n",
              "      <th>2</th>\n",
              "      <td>NaN</td>\n",
              "      <td>NaN</td>\n",
              "      <td>NaN</td>\n",
              "      <td>NaN</td>\n",
              "      <td>NaN</td>\n",
              "      <td>성별구분</td>\n",
              "      <td>0: 남성, 1: 여성</td>\n",
              "    </tr>\n",
              "    <tr>\n",
              "      <th>3</th>\n",
              "      <td>NaN</td>\n",
              "      <td>NaN</td>\n",
              "      <td>NaN</td>\n",
              "      <td>NaN</td>\n",
              "      <td>NaN</td>\n",
              "      <td>연령대</td>\n",
              "      <td>연령 구간. 알파벳 순서와 연령 순서는 무관.</td>\n",
              "    </tr>\n",
              "    <tr>\n",
              "      <th>4</th>\n",
              "      <td>NaN</td>\n",
              "      <td>NaN</td>\n",
              "      <td>NaN</td>\n",
              "      <td>NaN</td>\n",
              "      <td>NaN</td>\n",
              "      <td>기혼스코어</td>\n",
              "      <td>카드 이용 고객이 기혼일 확률</td>\n",
              "    </tr>\n",
              "    <tr>\n",
              "      <th>5</th>\n",
              "      <td>NaN</td>\n",
              "      <td>NaN</td>\n",
              "      <td>NaN</td>\n",
              "      <td>NaN</td>\n",
              "      <td>NaN</td>\n",
              "      <td>유아자녀스코어</td>\n",
              "      <td>카드 이용 고객이에게 유아자녀가 있을 확률</td>\n",
              "    </tr>\n",
              "    <tr>\n",
              "      <th>6</th>\n",
              "      <td>NaN</td>\n",
              "      <td>NaN</td>\n",
              "      <td>NaN</td>\n",
              "      <td>NaN</td>\n",
              "      <td>NaN</td>\n",
              "      <td>초등학생자녀스코어</td>\n",
              "      <td>카드 이용 고객이에게 초등학생 자녀가 있을 확률</td>\n",
              "    </tr>\n",
              "    <tr>\n",
              "      <th>7</th>\n",
              "      <td>NaN</td>\n",
              "      <td>NaN</td>\n",
              "      <td>NaN</td>\n",
              "      <td>NaN</td>\n",
              "      <td>NaN</td>\n",
              "      <td>중고생자녀스코어</td>\n",
              "      <td>카드 이용 고객이에게 중고생 자녀가 있을 확률</td>\n",
              "    </tr>\n",
              "    <tr>\n",
              "      <th>8</th>\n",
              "      <td>NaN</td>\n",
              "      <td>NaN</td>\n",
              "      <td>NaN</td>\n",
              "      <td>NaN</td>\n",
              "      <td>NaN</td>\n",
              "      <td>대학생자녀스코어</td>\n",
              "      <td>카드 이용 고객이에게 대학생 자녀가 있을 확률</td>\n",
              "    </tr>\n",
              "    <tr>\n",
              "      <th>9</th>\n",
              "      <td>NaN</td>\n",
              "      <td>NaN</td>\n",
              "      <td>NaN</td>\n",
              "      <td>NaN</td>\n",
              "      <td>NaN</td>\n",
              "      <td>전업주부스코어</td>\n",
              "      <td>카드 이용 고객이 전업주부일 확률</td>\n",
              "    </tr>\n",
              "    <tr>\n",
              "      <th>10</th>\n",
              "      <td>2.0</td>\n",
              "      <td>업종_예시.xlsx</td>\n",
              "      <td>14.2 KB</td>\n",
              "      <td>10.0</td>\n",
              "      <td>업종별 예시</td>\n",
              "      <td>업종 분류</td>\n",
              "      <td>업종명</td>\n",
              "    </tr>\n",
              "    <tr>\n",
              "      <th>11</th>\n",
              "      <td>NaN</td>\n",
              "      <td>NaN</td>\n",
              "      <td>NaN</td>\n",
              "      <td>NaN</td>\n",
              "      <td>NaN</td>\n",
              "      <td>예시</td>\n",
              "      <td>업종별 예시</td>\n",
              "    </tr>\n",
              "  </tbody>\n",
              "</table>\n",
              "</div>"
            ],
            "text/plain": [
              "    No.              파일목록  ...        컬럼명                       컬럼 내용\n",
              "0   1.0  trend_w_demo.csv  ...         YM                       이용 연월\n",
              "1   NaN               NaN  ...   Category                       이용 업종\n",
              "2   NaN               NaN  ...       성별구분                0: 남성, 1: 여성\n",
              "3   NaN               NaN  ...        연령대   연령 구간. 알파벳 순서와 연령 순서는 무관.\n",
              "4   NaN               NaN  ...      기혼스코어            카드 이용 고객이 기혼일 확률\n",
              "5   NaN               NaN  ...    유아자녀스코어     카드 이용 고객이에게 유아자녀가 있을 확률\n",
              "6   NaN               NaN  ...  초등학생자녀스코어  카드 이용 고객이에게 초등학생 자녀가 있을 확률\n",
              "7   NaN               NaN  ...   중고생자녀스코어   카드 이용 고객이에게 중고생 자녀가 있을 확률\n",
              "8   NaN               NaN  ...   대학생자녀스코어   카드 이용 고객이에게 대학생 자녀가 있을 확률\n",
              "9   NaN               NaN  ...    전업주부스코어          카드 이용 고객이 전업주부일 확률\n",
              "10  2.0        업종_예시.xlsx  ...      업종 분류                         업종명\n",
              "11  NaN               NaN  ...         예시                      업종별 예시\n",
              "\n",
              "[12 rows x 7 columns]"
            ]
          },
          "metadata": {
            "tags": []
          },
          "execution_count": 8
        }
      ]
    },
    {
      "cell_type": "markdown",
      "metadata": {
        "id": "g4heJXlx1yyM",
        "colab_type": "text"
      },
      "source": [
        "### 4) 데이터 확인\n",
        "- 불러온 card 데이터셋의 변수명과 값을 확인한다"
      ]
    },
    {
      "cell_type": "code",
      "metadata": {
        "id": "YW-NrMt42BKn",
        "colab_type": "code",
        "colab": {
          "base_uri": "https://localhost:8080/",
          "height": 323
        },
        "outputId": "8e9794ed-f79f-46dd-afd8-606e77de6413"
      },
      "source": [
        "card.info()"
      ],
      "execution_count": null,
      "outputs": [
        {
          "output_type": "stream",
          "text": [
            "<class 'pandas.core.frame.DataFrame'>\n",
            "RangeIndex: 452038 entries, 0 to 452037\n",
            "Data columns (total 10 columns):\n",
            " #   Column     Non-Null Count   Dtype \n",
            "---  ------     --------------   ----- \n",
            " 0   YM         452038 non-null  int64 \n",
            " 1   Category   452038 non-null  object\n",
            " 2   성별구분       452038 non-null  int64 \n",
            " 3   연령대        452038 non-null  object\n",
            " 4   기혼스코어      452038 non-null  object\n",
            " 5   유아자녀스코어    452038 non-null  object\n",
            " 6   초등학생자녀스코어  452038 non-null  object\n",
            " 7   중고생자녀스코어   452038 non-null  object\n",
            " 8   대학생자녀스코어   452038 non-null  object\n",
            " 9   전업주부스코어    452038 non-null  object\n",
            "dtypes: int64(2), object(8)\n",
            "memory usage: 34.5+ MB\n"
          ],
          "name": "stdout"
        }
      ]
    },
    {
      "cell_type": "markdown",
      "metadata": {
        "id": "TcKAFIkm2H7m",
        "colab_type": "text"
      },
      "source": [
        " - card 데이터에는 카드 사용 연월과 매장 유형, 카드 사용자에 대한 정보가 담겨 있다\n",
        " - 결측치를 확인하면 아래와 같다"
      ]
    },
    {
      "cell_type": "code",
      "metadata": {
        "id": "xVj0RLI92GZ0",
        "colab_type": "code",
        "colab": {
          "base_uri": "https://localhost:8080/",
          "height": 215
        },
        "outputId": "ce94661c-c863-4acf-855b-b945d47eb428"
      },
      "source": [
        "card.isnull().sum()"
      ],
      "execution_count": null,
      "outputs": [
        {
          "output_type": "execute_result",
          "data": {
            "text/plain": [
              "YM           0\n",
              "Category     0\n",
              "성별구분         0\n",
              "연령대          0\n",
              "기혼스코어        0\n",
              "유아자녀스코어      0\n",
              "초등학생자녀스코어    0\n",
              "중고생자녀스코어     0\n",
              "대학생자녀스코어     0\n",
              "전업주부스코어      0\n",
              "dtype: int64"
            ]
          },
          "metadata": {
            "tags": []
          },
          "execution_count": 10
        }
      ]
    },
    {
      "cell_type": "markdown",
      "metadata": {
        "id": "9TcZL_322V42",
        "colab_type": "text"
      },
      "source": [
        "### 5) 데이터 전처리\n",
        "- 확인한 데이터셋을 분석이 용이하도록 전처리한다"
      ]
    },
    {
      "cell_type": "markdown",
      "metadata": {
        "id": "tbx-Is9c2kIh",
        "colab_type": "text"
      },
      "source": [
        "#### 1) 연도 정보 추출\n",
        "- 데이터셋에는 YM이라는 변수명에 코로나 전인 2019년의 4,5월의 정보와 코로나 후인 2020년 4,5월의 정보가 있다\n",
        "- 여기에서 연도 정보만을 추출해 분류하면 코로나에 따른 카드 사용 패턴의 변화를 더 명확히 확인할 수 있을 것이다"
      ]
    },
    {
      "cell_type": "code",
      "metadata": {
        "id": "-HK4SasU3m4a",
        "colab_type": "code",
        "colab": {}
      },
      "source": [
        "YM = list(card['YM']) \n",
        "#데이터프레임에서 칼럼을 지정하면 전체 데이터를 가져오기 때문에\n",
        "#리스트로 우선 변환 후 for문을 돌려야 개별 값을 평가할 수 있다\n",
        "Year = []\n",
        "for item in YM:\n",
        "  if item == 201904: # 2019년의 데이터는 2019라는 이름으로 Year에 저장\n",
        "    Year.append(2019)\n",
        "  elif item == 201905:\n",
        "    Year.append(2019)\n",
        "  else: # 그 외의 경우에는 2020이라는 이름으로 저장한다\n",
        "    Year.append(2020)\n",
        "\n",
        "card['Year']=Year"
      ],
      "execution_count": null,
      "outputs": []
    },
    {
      "cell_type": "markdown",
      "metadata": {
        "id": "2rj9EEWK3Oov",
        "colab_type": "text"
      },
      "source": [
        "#### 2) 스코어 점수 인코딩\n",
        "- high, mid, low로 분류된 스코어 점수를 숫자값으로 인코딩하여 분석에 용이하도록 한다"
      ]
    },
    {
      "cell_type": "code",
      "metadata": {
        "id": "kN-WI2Hz4Cij",
        "colab_type": "code",
        "colab": {}
      },
      "source": [
        "mapping = {'high':2,'mid':1,'low':0}\n",
        "card['기혼스코어']=card['기혼스코어'].map(mapping)\n",
        "card['유아자녀스코어']=card['유아자녀스코어'].map(mapping)\n",
        "card['초등학생자녀스코어']=card['초등학생자녀스코어'].map(mapping)\n",
        "card['중고생자녀스코어']=card['중고생자녀스코어'].map(mapping)\n",
        "card['대학생자녀스코어']=card['대학생자녀스코어'].map(mapping)\n",
        "card['전업주부스코어']=card['전업주부스코어'].map(mapping)"
      ],
      "execution_count": null,
      "outputs": []
    },
    {
      "cell_type": "markdown",
      "metadata": {
        "id": "4GQfsy6j2-eH",
        "colab_type": "text"
      },
      "source": [
        "#### 3) 자녀 정보 추출\n",
        "- 유아, 초등학생, 중고생, 대학생으로 나뉜 자녀에 대한 정보를 \n",
        "- 평균값으로 통합해 자녀 유무에 대한 전체적인 확률을 확인할 수 있도록 하자"
      ]
    },
    {
      "cell_type": "code",
      "metadata": {
        "id": "ZFmAXrD03_Q1",
        "colab_type": "code",
        "colab": {}
      },
      "source": [
        "card['자녀유무']=card[['유아자녀스코어','초등학생자녀스코어','중고생자녀스코어','대학생자녀스코어']].mean(1)"
      ],
      "execution_count": null,
      "outputs": []
    },
    {
      "cell_type": "markdown",
      "metadata": {
        "id": "TnmAQ0dWsawT",
        "colab_type": "text"
      },
      "source": [
        "#### 4) 성별 정보 \n",
        "- 0과 1로 구분되어 있는 '성별구분' 열을 0=남성, 1=여성으로 새로 인코딩한다\n",
        "- 시각화를 했을 때 데이터 셋 확인이 더욱 용이하게 하기 위함이다"
      ]
    },
    {
      "cell_type": "code",
      "metadata": {
        "id": "68T-__b9stLs",
        "colab_type": "code",
        "colab": {}
      },
      "source": [
        "mapping = {0:'남성',1:'여성'}\n",
        "card['성별']= card['성별구분'].map(mapping)"
      ],
      "execution_count": null,
      "outputs": []
    },
    {
      "cell_type": "markdown",
      "metadata": {
        "id": "CtmLqV-M4Ewl",
        "colab_type": "text"
      },
      "source": [
        "- 전처리한 데이터셋의 칼럼 순서를 변경해 분석에 용이하도록 한다"
      ]
    },
    {
      "cell_type": "code",
      "metadata": {
        "id": "eWodEeXV4TZG",
        "colab_type": "code",
        "colab": {}
      },
      "source": [
        "card = card.reindex(columns=['YM','Year','Category','성별','성별구분','연령대','기혼스코어','자녀유무',\n",
        "                             '유아자녀스코어', '초등학생자녀스코어','중고생자녀스코어','대학생자녀스코어','전업주부스코어'])"
      ],
      "execution_count": null,
      "outputs": []
    },
    {
      "cell_type": "code",
      "metadata": {
        "id": "nU7WZfQk4qzV",
        "colab_type": "code",
        "colab": {
          "base_uri": "https://localhost:8080/",
          "height": 227
        },
        "outputId": "ea640851-6758-41fa-f187-5f10749e7ee6"
      },
      "source": [
        "card.head(3)"
      ],
      "execution_count": null,
      "outputs": [
        {
          "output_type": "execute_result",
          "data": {
            "text/html": [
              "<div>\n",
              "<style scoped>\n",
              "    .dataframe tbody tr th:only-of-type {\n",
              "        vertical-align: middle;\n",
              "    }\n",
              "\n",
              "    .dataframe tbody tr th {\n",
              "        vertical-align: top;\n",
              "    }\n",
              "\n",
              "    .dataframe thead th {\n",
              "        text-align: right;\n",
              "    }\n",
              "</style>\n",
              "<table border=\"1\" class=\"dataframe\">\n",
              "  <thead>\n",
              "    <tr style=\"text-align: right;\">\n",
              "      <th></th>\n",
              "      <th>YM</th>\n",
              "      <th>Year</th>\n",
              "      <th>Category</th>\n",
              "      <th>성별</th>\n",
              "      <th>성별구분</th>\n",
              "      <th>연령대</th>\n",
              "      <th>기혼스코어</th>\n",
              "      <th>자녀유무</th>\n",
              "      <th>유아자녀스코어</th>\n",
              "      <th>초등학생자녀스코어</th>\n",
              "      <th>중고생자녀스코어</th>\n",
              "      <th>대학생자녀스코어</th>\n",
              "      <th>전업주부스코어</th>\n",
              "    </tr>\n",
              "  </thead>\n",
              "  <tbody>\n",
              "    <tr>\n",
              "      <th>0</th>\n",
              "      <td>202005</td>\n",
              "      <td>2020</td>\n",
              "      <td>할인점</td>\n",
              "      <td>남성</td>\n",
              "      <td>0</td>\n",
              "      <td>F</td>\n",
              "      <td>2</td>\n",
              "      <td>0.75</td>\n",
              "      <td>0</td>\n",
              "      <td>2</td>\n",
              "      <td>1</td>\n",
              "      <td>0</td>\n",
              "      <td>0</td>\n",
              "    </tr>\n",
              "    <tr>\n",
              "      <th>1</th>\n",
              "      <td>202005</td>\n",
              "      <td>2020</td>\n",
              "      <td>취미</td>\n",
              "      <td>남성</td>\n",
              "      <td>0</td>\n",
              "      <td>B</td>\n",
              "      <td>2</td>\n",
              "      <td>0.50</td>\n",
              "      <td>0</td>\n",
              "      <td>1</td>\n",
              "      <td>1</td>\n",
              "      <td>0</td>\n",
              "      <td>0</td>\n",
              "    </tr>\n",
              "    <tr>\n",
              "      <th>2</th>\n",
              "      <td>202005</td>\n",
              "      <td>2020</td>\n",
              "      <td>오픈마켓/소셜</td>\n",
              "      <td>여성</td>\n",
              "      <td>1</td>\n",
              "      <td>D</td>\n",
              "      <td>1</td>\n",
              "      <td>0.75</td>\n",
              "      <td>1</td>\n",
              "      <td>1</td>\n",
              "      <td>1</td>\n",
              "      <td>0</td>\n",
              "      <td>1</td>\n",
              "    </tr>\n",
              "  </tbody>\n",
              "</table>\n",
              "</div>"
            ],
            "text/plain": [
              "       YM  Year Category  성별  ...  초등학생자녀스코어 중고생자녀스코어  대학생자녀스코어  전업주부스코어\n",
              "0  202005  2020      할인점  남성  ...          2        1         0        0\n",
              "1  202005  2020       취미  남성  ...          1        1         0        0\n",
              "2  202005  2020  오픈마켓/소셜  여성  ...          1        1         0        1\n",
              "\n",
              "[3 rows x 13 columns]"
            ]
          },
          "metadata": {
            "tags": []
          },
          "execution_count": 111
        }
      ]
    },
    {
      "cell_type": "code",
      "metadata": {
        "id": "Jua0USa14sxy",
        "colab_type": "code",
        "colab": {
          "base_uri": "https://localhost:8080/",
          "height": 227
        },
        "outputId": "b338acbc-7f9b-4682-d284-e16b54cd3096"
      },
      "source": [
        "card.tail(3)"
      ],
      "execution_count": null,
      "outputs": [
        {
          "output_type": "execute_result",
          "data": {
            "text/html": [
              "<div>\n",
              "<style scoped>\n",
              "    .dataframe tbody tr th:only-of-type {\n",
              "        vertical-align: middle;\n",
              "    }\n",
              "\n",
              "    .dataframe tbody tr th {\n",
              "        vertical-align: top;\n",
              "    }\n",
              "\n",
              "    .dataframe thead th {\n",
              "        text-align: right;\n",
              "    }\n",
              "</style>\n",
              "<table border=\"1\" class=\"dataframe\">\n",
              "  <thead>\n",
              "    <tr style=\"text-align: right;\">\n",
              "      <th></th>\n",
              "      <th>YM</th>\n",
              "      <th>Year</th>\n",
              "      <th>Category</th>\n",
              "      <th>성별</th>\n",
              "      <th>성별구분</th>\n",
              "      <th>연령대</th>\n",
              "      <th>기혼스코어</th>\n",
              "      <th>자녀유무</th>\n",
              "      <th>유아자녀스코어</th>\n",
              "      <th>초등학생자녀스코어</th>\n",
              "      <th>중고생자녀스코어</th>\n",
              "      <th>대학생자녀스코어</th>\n",
              "      <th>전업주부스코어</th>\n",
              "    </tr>\n",
              "  </thead>\n",
              "  <tbody>\n",
              "    <tr>\n",
              "      <th>452035</th>\n",
              "      <td>201904</td>\n",
              "      <td>2019</td>\n",
              "      <td>할인점</td>\n",
              "      <td>여성</td>\n",
              "      <td>1</td>\n",
              "      <td>H</td>\n",
              "      <td>2</td>\n",
              "      <td>0.0</td>\n",
              "      <td>0</td>\n",
              "      <td>0</td>\n",
              "      <td>0</td>\n",
              "      <td>0</td>\n",
              "      <td>0</td>\n",
              "    </tr>\n",
              "    <tr>\n",
              "      <th>452036</th>\n",
              "      <td>201904</td>\n",
              "      <td>2019</td>\n",
              "      <td>할인점</td>\n",
              "      <td>남성</td>\n",
              "      <td>0</td>\n",
              "      <td>H</td>\n",
              "      <td>2</td>\n",
              "      <td>0.0</td>\n",
              "      <td>0</td>\n",
              "      <td>0</td>\n",
              "      <td>0</td>\n",
              "      <td>0</td>\n",
              "      <td>0</td>\n",
              "    </tr>\n",
              "    <tr>\n",
              "      <th>452037</th>\n",
              "      <td>201904</td>\n",
              "      <td>2019</td>\n",
              "      <td>할인점</td>\n",
              "      <td>여성</td>\n",
              "      <td>1</td>\n",
              "      <td>B</td>\n",
              "      <td>2</td>\n",
              "      <td>0.5</td>\n",
              "      <td>0</td>\n",
              "      <td>1</td>\n",
              "      <td>1</td>\n",
              "      <td>0</td>\n",
              "      <td>1</td>\n",
              "    </tr>\n",
              "  </tbody>\n",
              "</table>\n",
              "</div>"
            ],
            "text/plain": [
              "            YM  Year Category  성별  ...  초등학생자녀스코어 중고생자녀스코어  대학생자녀스코어  전업주부스코어\n",
              "452035  201904  2019      할인점  여성  ...          0        0         0        0\n",
              "452036  201904  2019      할인점  남성  ...          0        0         0        0\n",
              "452037  201904  2019      할인점  여성  ...          1        1         0        1\n",
              "\n",
              "[3 rows x 13 columns]"
            ]
          },
          "metadata": {
            "tags": []
          },
          "execution_count": 112
        }
      ]
    },
    {
      "cell_type": "markdown",
      "metadata": {
        "id": "LUEtO9Sc3e0U",
        "colab_type": "text"
      },
      "source": [
        "### 6) 데이터 시각화\n",
        "- 전처리한 데이터를 여러 관점으로 시각화에 유의미한 분석 포인트를 도출한다\n",
        "- 우선 시각화를 위한 라이브러리를 가져온다"
      ]
    },
    {
      "cell_type": "code",
      "metadata": {
        "id": "sU3BtWbn6CEo",
        "colab_type": "code",
        "colab": {}
      },
      "source": [
        "import seaborn as sns\n",
        "import matplotlib.pyplot as plt"
      ],
      "execution_count": null,
      "outputs": []
    },
    {
      "cell_type": "markdown",
      "metadata": {
        "id": "JcS4n5Lc5S2l",
        "colab_type": "text"
      },
      "source": [
        "#### 1) 연도에 따른 카드 사용 빈도의 차이 \n",
        "- 코로나 이전과 이후인 2019, 2020년에서 카드 사용 빈도의 차이가 있는지 확인한다\n",
        "- 빈도는 연도값을 바탕으로 데이터프레임을 구분한 뒤, 각 프레임의 인덱스 수로 확인한다"
      ]
    },
    {
      "cell_type": "code",
      "metadata": {
        "id": "96SEzPGD6XBk",
        "colab_type": "code",
        "colab": {
          "base_uri": "https://localhost:8080/",
          "height": 265
        },
        "outputId": "eaf7bad0-09bb-4e25-b275-f2a3b6cb46eb"
      },
      "source": [
        "before = card[card['Year']==2019] ; bef_num = len(before.index)\n",
        "after = card[card['Year']==2020] ; aft_num = len(after.index)\n",
        "xbar=['before COV','after COV']\n",
        "ybar=[bef_num,aft_num]\n",
        "plt.figure(figsize=(6,4))\n",
        "sns.barplot(x=xbar,y=ybar,palette='Paired');"
      ],
      "execution_count": null,
      "outputs": [
        {
          "output_type": "display_data",
          "data": {
            "image/png": "[encoded data removed]",
            "text/plain": [
              "<Figure size 432x288 with 1 Axes>"
            ]
          },
          "metadata": {
            "tags": [],
            "needs_background": "light"
          }
        }
      ]
    },
    {
      "cell_type": "markdown",
      "metadata": {
        "id": "n6Smc5RV65FP",
        "colab_type": "text"
      },
      "source": [
        "- 시각화 결과 코로나 이후인 2020년에 카드 사용 빈도가 감소한 것을 확인할 수 있다"
      ]
    },
    {
      "cell_type": "markdown",
      "metadata": {
        "id": "e6kIzDtr5sBL",
        "colab_type": "text"
      },
      "source": [
        "#### 2) 카테고리별 카드 사용 빈도의 차이\n",
        "- 구체적으로 카테고리별로 코로나 전후의 차이가 어떻게 나타나는지 확인한다"
      ]
    },
    {
      "cell_type": "code",
      "metadata": {
        "id": "MCX-7UAl9a39",
        "colab_type": "code",
        "colab": {
          "base_uri": "https://localhost:8080/",
          "height": 387
        },
        "outputId": "e3189ff1-e5d3-4f58-8a96-ed624fbd24a0"
      },
      "source": [
        "plt.figure(figsize=(15,10));\n",
        "ax = sns.catplot(x='Year',kind='count',hue='Category', palette='Paired',data=card);"
      ],
      "execution_count": null,
      "outputs": [
        {
          "output_type": "display_data",
          "data": {
            "text/plain": [
              "<Figure size 1080x720 with 0 Axes>"
            ]
          },
          "metadata": {
            "tags": []
          }
        },
        {
          "output_type": "display_data",
          "data": {
            "image/png": "[encoded data removed]",
            "text/plain": [
              "<Figure size 456x360 with 1 Axes>"
            ]
          },
          "metadata": {
            "tags": [],
            "needs_background": "light"
          }
        }
      ]
    },
    {
      "cell_type": "markdown",
      "metadata": {
        "id": "W8BUpp0n91UB",
        "colab_type": "text"
      },
      "source": [
        "- 위 표를 보았을 때는 할인점이 큰 폭으로 감소하고 오픈마켓/소셜에서의 카드 사용 빈도가 증가한 것으로 보인다\n",
        "- 하지만 위 도표는 빈도 차이를 나타내고 있을 뿐, 감소하거나 증가한 비율에 대한 정보를 포함하고 있지 않다\n",
        "- 이에 2019년과 2020년의 데이터를 기반으로 카테고리별 변화율을 구해 \n",
        "- 코로나 상황에서 가장 크게 영향을 받은 분야를 확인해보도록 하겠다"
      ]
    },
    {
      "cell_type": "markdown",
      "metadata": {
        "id": "VdTeJfNd53AI",
        "colab_type": "text"
      },
      "source": [
        "#### 3) 카드 사용 빈도의 감소율 확인\n",
        "- [다음](https://stackoverflow.com/questions/30926840/how-to-check-change-between-two-values-in-percent)을 참조해 변화율을 구하는 함수를 다음과 같이 정의한다"
      ]
    },
    {
      "cell_type": "code",
      "metadata": {
        "id": "uu80Ned62jnq",
        "colab_type": "code",
        "colab": {}
      },
      "source": [
        "def percentage_change(current, previous):\n",
        "    if previous != 0 :\n",
        "        return float(current - previous) / abs(previous) * 100\n",
        "    else:\n",
        "        return \"undefined\""
      ],
      "execution_count": null,
      "outputs": []
    },
    {
      "cell_type": "markdown",
      "metadata": {
        "id": "5Z2Fhc22-rL1",
        "colab_type": "text"
      },
      "source": [
        "- 카테고리와 연도별로 카드를 사용한 빈도를 구하는 함수를 다음과 같이 정의한다\n",
        "- 또한 아래 함수에 변수를 넣기 위해 카테고리값들을 리스트로 미리 만들어두었다"
      ]
    },
    {
      "cell_type": "code",
      "metadata": {
        "id": "HwroCzg9-3xV",
        "colab_type": "code",
        "colab": {}
      },
      "source": [
        "def ratio(category):\n",
        "  cat_19 = len(card[card['Year']==2019][card['Category']==category].index)\n",
        "  cat_20 = len(card[card['Year']==2020][card['Category']==category].index)\n",
        "  return percentage_change(cat_20,cat_19)"
      ],
      "execution_count": null,
      "outputs": []
    },
    {
      "cell_type": "code",
      "metadata": {
        "id": "XhADMjSO-oqY",
        "colab_type": "code",
        "colab": {}
      },
      "source": [
        "cat_list = ['디저트','호텔/숙박','항공/여행사','취미','할인점','뷰티',\n",
        "            '면세점','종합몰','오픈마켓/소셜','전문몰']"
      ],
      "execution_count": null,
      "outputs": []
    },
    {
      "cell_type": "markdown",
      "metadata": {
        "id": "8CiLysza--Tq",
        "colab_type": "text"
      },
      "source": [
        "- 위 2개의 함수를 통해 다음과 같은 방법으로 변화율을 구할 수 있다"
      ]
    },
    {
      "cell_type": "code",
      "metadata": {
        "id": "b-WnZ7FY-90n",
        "colab_type": "code",
        "colab": {
          "base_uri": "https://localhost:8080/",
          "height": 374
        },
        "outputId": "236d830a-c7ab-4d44-ce1e-931f0012fbbe"
      },
      "source": [
        "diff = []\n",
        "for item in cat_list:\n",
        "  x = ratio(item)\n",
        "  diff.append(x)\n",
        "xbar = cat_list\n",
        "ybar = diff\n",
        "plt.figure(figsize=(10,6))\n",
        "pic = sns.barplot(x=xbar,y=ybar,palette='Paired');"
      ],
      "execution_count": null,
      "outputs": [
        {
          "output_type": "display_data",
          "data": {
            "image/png": "[encoded data removed]",
            "text/plain": [
              "<Figure size 720x432 with 1 Axes>"
            ]
          },
          "metadata": {
            "tags": [],
            "needs_background": "light"
          }
        }
      ]
    },
    {
      "cell_type": "markdown",
      "metadata": {
        "id": "zTnyuMBrAwmT",
        "colab_type": "text"
      },
      "source": [
        "- 시각화 결과 대다수의 카테고리에서 코로나 이후 카드 사용 빈도의 감소가 확인되었다 \n",
        "- 특히 면세점과 항공/여행사 그리고 호텔/숙박과 같이 여행과 관련된 카테고리가 가장 큰 타격을 입은 것으로 보인다\n",
        "- 또한 주목해볼 수 있는 것은 오픈마켓/소셜과 전문몰과 같이 \n",
        "- 온라인으로 운영되는 카테고리에서는 사용 빈도의 증가가 확인되었다는 것이다\n",
        "- 여기에서 코로나가 온라인과 오프라인 매장에 상반되는 영향을 끼친 것임을 생각해볼 수 있다\n",
        "- 이를 구체적으로 확인할 수 있는 방법은 아래와 같다"
      ]
    },
    {
      "cell_type": "markdown",
      "metadata": {
        "id": "Bx9idYGn_Tx9",
        "colab_type": "text"
      },
      "source": [
        "#### 4) 매장 유형별 변화율 확인\n",
        "- Category변수를 오프라인과 온라인으로 그룹화해 새로운 칼럼을 만든다\n",
        "- 이후 위와 동일한 방식으로 매장 유형별 변화율을 확인한다"
      ]
    },
    {
      "cell_type": "code",
      "metadata": {
        "id": "9hNiIwlu_p0f",
        "colab_type": "code",
        "colab": {}
      },
      "source": [
        "category = list(card['Category'])\n",
        "group = []\n",
        "for item in category:\n",
        "  if item == '종합몰':\n",
        "    group.append('online')\n",
        "  elif item== '오픈마켓/소셜':\n",
        "    group.append('online')\n",
        "  elif item=='전문몰':\n",
        "    group.append('online')\n",
        "  else:\n",
        "    group.append('offline')\n",
        "\n",
        "card['Group'] = group\n",
        "card = card.reindex(columns=['YM','Year','Category','Category2','Group','성별구분','연령대','기혼스코어','자녀유무','유아자녀스코어',\n",
        "                             '초등학생자녀스코어','중고생자녀스코어','대학생자녀스코어','전업주부스코어'])"
      ],
      "execution_count": null,
      "outputs": []
    },
    {
      "cell_type": "code",
      "metadata": {
        "id": "YBOcbbKe_FSc",
        "colab_type": "code",
        "colab": {}
      },
      "source": [
        "off_19 = len(card[card['Year']==2019][card['Group']=='offline'].index) #2019년 오프라인 빈도수\n",
        "off_20 = len(card[card['Year']==2020][card['Group']=='offline'].index) #2020년 오프라인 빈도수\n",
        "on_19 = len(card[card['Year']==2019][card['Group']=='online'].index) #2020년 온라인 빈도수\n",
        "on_20 = len(card[card['Year']==2020][card['Group']=='online'].index) #2020년 온라인 빈도수"
      ],
      "execution_count": null,
      "outputs": []
    },
    {
      "cell_type": "code",
      "metadata": {
        "id": "uA-_zOxS_kFe",
        "colab_type": "code",
        "colab": {
          "base_uri": "https://localhost:8080/",
          "height": 387
        },
        "outputId": "32940226-5360-4a4f-f0aa-9de17207c721"
      },
      "source": [
        "plt.figure(figsize=(8,6));\n",
        "sns.catplot(x='Year', kind='count', hue='Group', palette='YlGnBu',data=card);"
      ],
      "execution_count": null,
      "outputs": [
        {
          "output_type": "display_data",
          "data": {
            "text/plain": [
              "<Figure size 576x432 with 0 Axes>"
            ]
          },
          "metadata": {
            "tags": []
          }
        },
        {
          "output_type": "display_data",
          "data": {
            "image/png": "[encoded data removed]",
            "text/plain": [
              "<Figure size 425.625x360 with 1 Axes>"
            ]
          },
          "metadata": {
            "tags": [],
            "needs_background": "light"
          }
        }
      ]
    },
    {
      "cell_type": "markdown",
      "metadata": {
        "id": "HEDCAFlhBWMH",
        "colab_type": "text"
      },
      "source": [
        "- 실제로 오프라인 매장은 코로나 이후 카드 사용 빈도가 큰 폭으로 감소한 반면\n",
        "- 온라인 매장에서는 카드 사용 빈도가 소폭 증가한 경향을 보인다\n",
        "- 구체적인 변화율은 다음과 같다"
      ]
    },
    {
      "cell_type": "code",
      "metadata": {
        "id": "Lw0vlKw8AlPl",
        "colab_type": "code",
        "colab": {
          "base_uri": "https://localhost:8080/",
          "height": 373
        },
        "outputId": "e03553e2-adc9-40f2-8526-a98a54d46cf6"
      },
      "source": [
        "off_diff = percentage_change(off_20,off_19)\n",
        "on_diff = percentage_change(on_20,on_19)\n",
        "xbar=['오프라인 차이','온라인 차이']\n",
        "ybar=[off_diff,on_diff]\n",
        "plt.figure(figsize=(4,6))\n",
        "sns.barplot(x=xbar,y=ybar,palette='YlOrRd');"
      ],
      "execution_count": null,
      "outputs": [
        {
          "output_type": "display_data",
          "data": {
            "image/png": "[encoded data removed]",
            "text/plain": [
              "<Figure size 288x432 with 1 Axes>"
            ]
          },
          "metadata": {
            "tags": [],
            "needs_background": "light"
          }
        }
      ]
    },
    {
      "cell_type": "markdown",
      "metadata": {
        "id": "efZfGnXqDDrj",
        "colab_type": "text"
      },
      "source": [
        "### 7) 전략 수립\n",
        "- 지금까지의 시각화 결과를 바탕으로 마케팅 전략 수립을 시작해보자\n",
        "- 접근방법은 다음 2가지로 나눌 수 있다 \n",
        "  + 사용 빈도가 감소한 오프라인 항목에 대해서 사용 빈도를 증대할 수 있는 방안 수립\n",
        "  + 사용 빈도에서 영향을 받지 않은 온라인 항목에서 마케팅 활동을 하여 사용 빈도 증대"
      ]
    },
    {
      "cell_type": "code",
      "metadata": {
        "id": "vHNz-in1BptJ",
        "colab_type": "code",
        "colab": {}
      },
      "source": [
        "card_copy = card.copy()"
      ],
      "execution_count": null,
      "outputs": []
    },
    {
      "cell_type": "markdown",
      "metadata": {
        "id": "rlDG7A4uD4kY",
        "colab_type": "text"
      },
      "source": [
        "#### 1) 오프라인 매장 분석\n",
        "- 마케팅 전략을 효율적으로 수립하기 위해\n",
        "- 오프라인 매장 중에서 사용 빈도가 높은 카테고리를 타겟으로 한다\n",
        "- 타겟을 구하기 위해 다음과 같은 방법으로 오프라인 전체 빈도에서 카테고리별로 차지하는 비율을 구해본다"
      ]
    },
    {
      "cell_type": "code",
      "metadata": {
        "id": "XApyrkELH7oe",
        "colab_type": "code",
        "colab": {}
      },
      "source": [
        "Offline = card[card['Group']=='offline']"
      ],
      "execution_count": null,
      "outputs": []
    },
    {
      "cell_type": "markdown",
      "metadata": {
        "id": "2ibsbi5uI2iV",
        "colab_type": "text"
      },
      "source": [
        "- 비율을 확인하기 위해서 우선 카테고리별 빈도수를 구하는 함수를 다음과 같이 정의한다"
      ]
    },
    {
      "cell_type": "code",
      "metadata": {
        "id": "_-cL5sQmIE2d",
        "colab_type": "code",
        "colab": {}
      },
      "source": [
        "def count1(cat1):\n",
        "  return len(Offline[Offline['YM']==201904][Offline['Category']==cat1].index) \n",
        "def count2(cat2):\n",
        "  return len(Offline[Offline['YM']==201905][Offline['Category']==cat2].index)\n",
        "def count3(cat3):\n",
        "  return len(Offline[Offline['YM']==202004][Offline['Category']==cat3].index)\n",
        "def count4(cat4):\n",
        "  return len(Offline[Offline['YM']==202005][Offline['Category']==cat4].index)"
      ],
      "execution_count": null,
      "outputs": []
    },
    {
      "cell_type": "markdown",
      "metadata": {
        "id": "gQHeWbTsMWsW",
        "colab_type": "text"
      },
      "source": [
        "- 오프라인 매장을 구성하는 카테고리 리스트를 만들고 For문을 활용하여 다음과 같이 빈도수를 구한다"
      ]
    },
    {
      "cell_type": "code",
      "metadata": {
        "id": "nb23SgrzLybs",
        "colab_type": "code",
        "colab": {}
      },
      "source": [
        "off_list = ['디저트','호텔/숙박','항공/여행사','취미','할인점','뷰티','면세점']"
      ],
      "execution_count": null,
      "outputs": []
    },
    {
      "cell_type": "code",
      "metadata": {
        "id": "gblXky4SL8oI",
        "colab_type": "code",
        "colab": {
          "base_uri": "https://localhost:8080/",
          "height": 89
        },
        "outputId": "3be8d3f5-1454-4033-88b8-386e51aed5c2"
      },
      "source": [
        "bef_04=[];bef_05=[];aft_04=[];aft_05=[]\n",
        "for item in off_list:\n",
        "  bef_04.append(count1(item))\n",
        "  bef_05.append(count2(item))\n",
        "  aft_04.append(count3(item))\n",
        "  aft_05.append(count4(item))\n",
        "\n",
        "print(bef_04);print(bef_05);print(aft_04);print(aft_05)"
      ],
      "execution_count": null,
      "outputs": [
        {
          "output_type": "stream",
          "text": [
            "[22918, 2332, 2132, 5469, 26721, 5734, 947]\n",
            "[23820, 2514, 2165, 5507, 25216, 6130, 926]\n",
            "[20259, 1274, 589, 3341, 15756, 3978, 56]\n",
            "[22746, 1885, 875, 4132, 16943, 4611, 139]\n"
          ],
          "name": "stdout"
        }
      ]
    },
    {
      "cell_type": "markdown",
      "metadata": {
        "id": "xdCOSlwiMdwH",
        "colab_type": "text"
      },
      "source": [
        "- 위 값을 바탕으로 파이도표를 그리면 결과는 다음과 같다"
      ]
    },
    {
      "cell_type": "code",
      "metadata": {
        "id": "tYZ4eHsnMkFm",
        "colab_type": "code",
        "colab": {
          "base_uri": "https://localhost:8080/",
          "height": 542
        },
        "outputId": "df81660a-5e6f-4969-b9c0-0711080ef4b7"
      },
      "source": [
        "fig, axs = plt.subplots(2, 2)\n",
        "labels = '디저트','호텔/숙박','항공/여행사','취미','할인점','뷰티','면세점'\n",
        "colors = ['#EFE8BA','#D0B990','#B1876B','#92574B','#733136','#541C2D','#350D23']\n",
        "axs[0, 0].pie(bef_04, labels=labels, colors=colors, autopct='%1.1f%%', shadow=True)\n",
        "axs[0, 0].set_title('2019_04')\n",
        "axs[0, 1].pie(bef_05, labels=labels, colors=colors, autopct='%1.1f%%', shadow=True)\n",
        "axs[0, 1].set_title('2019_05')\n",
        "axs[1, 0].pie(aft_04, labels=labels, colors=colors, autopct='%1.1f%%', shadow=True)\n",
        "axs[1, 0].set_title('2020_04')\n",
        "axs[1, 1].pie(aft_05, labels=labels, colors=colors, autopct='%1.1f%%', shadow=True)\n",
        "axs[1, 1].set_title('2020_05')                                         \n",
        "plt.show()"
      ],
      "execution_count": null,
      "outputs": [
        {
          "output_type": "display_data",
          "data": {
            "image/png": "[encoded data removed]",
            "text/plain": [
              "<Figure size 1440x720 with 4 Axes>"
            ]
          },
          "metadata": {
            "tags": []
          }
        }
      ]
    },
    {
      "cell_type": "markdown",
      "metadata": {
        "id": "GEynaesve_W-",
        "colab_type": "text"
      },
      "source": [
        "- 위를 보면 디저트와 할인점이 오프라인 매장 카드 사용의 70%이상을 차지하고 있음을 알 수 있다\n",
        "- 코로나 이후 오프라인 매장의 카드 사용 빈도는 전체적으로 줄었으나 그럼에도 불구하고\n",
        "- 비율로만 확인해보면 오프라인 전체 대비 디저트 매장에서의 카드 사용률은 코로나 이전보다 높은 것으로 보인다"
      ]
    },
    {
      "cell_type": "markdown",
      "metadata": {
        "id": "E6bbYzx6oTrK",
        "colab_type": "text"
      },
      "source": [
        "- 공모전의 주제가 펜데믹 시대를 극복할 마케팅 전략 수립인만큼\n",
        "- 본 장에서는 지속적으로 카드 사용률이 높은 디저트와 더불어 \n",
        "- 비율은 높으나 코로나 이후 사용 빈도가 줄은 할인점을 분석의 타겟으로 삼아야한다는 결론을 도출한다"
      ]
    },
    {
      "cell_type": "code",
      "metadata": {
        "id": "FeUmaAGKDnFM",
        "colab_type": "code",
        "colab": {
          "base_uri": "https://localhost:8080/",
          "height": 369
        },
        "outputId": "aa7a6b15-7c34-4d36-dbe7-997fa035e3cd"
      },
      "source": [
        "sns.catplot(x='YM',kind='count',hue = 'Category', palette='Paired',data=Offline);"
      ],
      "execution_count": null,
      "outputs": [
        {
          "output_type": "display_data",
          "data": {
            "image/png": "[encoded data removed]",
            "text/plain": [
              "<Figure size 446.625x360 with 1 Axes>"
            ]
          },
          "metadata": {
            "tags": [],
            "needs_background": "light"
          }
        }
      ]
    },
    {
      "cell_type": "markdown",
      "metadata": {
        "id": "lNMWa1pUiiC4",
        "colab_type": "text"
      },
      "source": [
        "- 위에서도 마찬가지로 할인점과 디저트의 빈도 수가 높은 것을 확인할 수 있다\n",
        "- 특히 코로나 이후 빈도 수가 가시적으로 감소한 할인점과 달리 \n",
        "- 디저트 카테고리는 코로나 이전과 이후에서 빈도 수의 차이가 두드러지게 나타나지 않는다"
      ]
    },
    {
      "cell_type": "markdown",
      "metadata": {
        "id": "OmkIrs7-jCWF",
        "colab_type": "text"
      },
      "source": [
        "#### 2) 온라인 매장 분석\n",
        "- 오프라인 매장과 유사한 방법으로 온라인 매장 또한 분석해보자"
      ]
    },
    {
      "cell_type": "code",
      "metadata": {
        "id": "7BcWoDfOEpl6",
        "colab_type": "code",
        "colab": {}
      },
      "source": [
        "Online = card[card['Group']=='online']"
      ],
      "execution_count": null,
      "outputs": []
    },
    {
      "cell_type": "code",
      "metadata": {
        "id": "p2jOuhTsjXBp",
        "colab_type": "code",
        "colab": {
          "base_uri": "https://localhost:8080/",
          "height": 369
        },
        "outputId": "9aeb41f4-6097-40f2-e488-6dae3f072882"
      },
      "source": [
        "sns.catplot(x='YM',kind='count',hue = 'Category', palette='Paired',data=Online);"
      ],
      "execution_count": null,
      "outputs": [
        {
          "output_type": "display_data",
          "data": {
            "image/png": "[encoded data removed]",
            "text/plain": [
              "<Figure size 456x360 with 1 Axes>"
            ]
          },
          "metadata": {
            "tags": [],
            "needs_background": "light"
          }
        }
      ]
    },
    {
      "cell_type": "markdown",
      "metadata": {
        "id": "xKUAjcCcorL5",
        "colab_type": "text"
      },
      "source": [
        "- 온라인 매장의 빈도수를 대강 살펴보면 오픈마켓/소셜과 전문몰에서 사용 빈도가 높은 것으로 확인된다"
      ]
    },
    {
      "cell_type": "code",
      "metadata": {
        "id": "CmRWg4pmjeb7",
        "colab_type": "code",
        "colab": {}
      },
      "source": [
        "def count5(cat1):\n",
        "  return len(Online[Online['YM']==201904][Online['Category']==cat1].index) \n",
        "def count6(cat2):\n",
        "  return len(Online[Online['YM']==201905][Online['Category']==cat2].index)\n",
        "def count7(cat3):\n",
        "  return len(Online[Online['YM']==202004][Online['Category']==cat3].index)\n",
        "def count8(cat4):\n",
        "  return len(Online[Online['YM']==202005][Online['Category']==cat4].index)"
      ],
      "execution_count": null,
      "outputs": []
    },
    {
      "cell_type": "code",
      "metadata": {
        "id": "thTl6NBtkXM1",
        "colab_type": "code",
        "colab": {}
      },
      "source": [
        "on_list = ['오픈마켓/소셜','전문몰','종합몰']"
      ],
      "execution_count": null,
      "outputs": []
    },
    {
      "cell_type": "code",
      "metadata": {
        "id": "n7ufhQlUkEXg",
        "colab_type": "code",
        "colab": {
          "base_uri": "https://localhost:8080/",
          "height": 89
        },
        "outputId": "a86dd901-cd4f-474e-95cd-6ec69eb06180"
      },
      "source": [
        "bef_04=[];bef_05=[];aft_04=[];aft_05=[]\n",
        "for item in on_list:\n",
        "  bef_04.append(count5(item))\n",
        "  bef_05.append(count6(item))\n",
        "  aft_04.append(count7(item))\n",
        "  aft_05.append(count8(item))\n",
        "\n",
        "print(bef_04);print(bef_05);print(aft_04);print(aft_05)"
      ],
      "execution_count": null,
      "outputs": [
        {
          "output_type": "stream",
          "text": [
            "[18766, 30911, 4189]\n",
            "[19343, 31655, 4175]\n",
            "[20909, 31139, 4073]\n",
            "[21724, 32357, 3682]\n"
          ],
          "name": "stdout"
        }
      ]
    },
    {
      "cell_type": "code",
      "metadata": {
        "id": "I9Qq5q_pkQnF",
        "colab_type": "code",
        "colab": {
          "base_uri": "https://localhost:8080/",
          "height": 589
        },
        "outputId": "3a3a35a4-1baa-4b6b-d95a-f1cc38f6eeb4"
      },
      "source": [
        "fig, axs = plt.subplots(2, 2)\n",
        "labels = '오픈마켓/소셜','전문몰','종합몰'\n",
        "colors = ['#571032','#D1F3DE','#B07289']\n",
        "axs[0, 0].pie(bef_04, labels=labels, colors=colors, autopct='%1.1f%%', shadow=True)\n",
        "axs[0, 0].set_title('2019_04')\n",
        "axs[0, 1].pie(bef_05, labels=labels, colors=colors, autopct='%1.1f%%', shadow=True)\n",
        "axs[0, 1].set_title('2019_05')\n",
        "axs[1, 0].pie(aft_04, labels=labels, colors=colors, autopct='%1.1f%%', shadow=True)\n",
        "axs[1, 0].set_title('2020_04')\n",
        "axs[1, 1].pie(aft_05, labels=labels, colors=colors, autopct='%1.1f%%', shadow=True)\n",
        "axs[1, 1].set_title('2020_05')                                         \n",
        "plt.show()"
      ],
      "execution_count": null,
      "outputs": [
        {
          "output_type": "display_data",
          "data": {
            "image/png": "[encoded data removed]",
            "text/plain": [
              "<Figure size 1440x720 with 4 Axes>"
            ]
          },
          "metadata": {
            "tags": []
          }
        }
      ]
    },
    {
      "cell_type": "markdown",
      "metadata": {
        "id": "z3h_n8SDo1pp",
        "colab_type": "text"
      },
      "source": [
        "- 실제로 온라인 매장 내 비율을 확인해보면 전문몰과 오픈마켓이 90%가 넘는 비율을 차지하고 있다\n",
        "- 오프라인 매장과는 달리 온라인 매장은 코로나 이전과 이후에서 카테고리 비율에서 큰 차이가 나타나지 않는다\n",
        "- 위를 통해 카드 사용 활성화를 위해서는 코로나로 인해 오히려 사용 빈도가 증가한 온라인 매장에 주목해야한다는 결론을 도출할 수 있다"
      ]
    }
  ]
}